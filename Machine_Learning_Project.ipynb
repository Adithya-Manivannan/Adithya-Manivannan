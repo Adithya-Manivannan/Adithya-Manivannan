{
 "cells": [
  {
   "cell_type": "code",
   "execution_count": null,
   "id": "a42e5efa",
   "metadata": {},
   "outputs": [],
   "source": [
    "import pandas as pd\n",
    "import numpy as np\n",
    "from sklearn import preprocessing\n",
    "import seaborn as sns\n",
    "import matplotlib.pyplot as plt\n",
    "from scipy.stats import zscore\n",
    "import warnings \n",
    "warnings.filterwarnings( \"ignore\")\n",
    "import statsmodels.formula.api as sm\n",
    "import scipy.stats as stats\n",
    "from imblearn.over_sampling import SMOTE\n",
    "from sklearn.model_selection import train_test_split,GridSearchCV\n",
    "from sklearn.model_selection import cross_val_score\n",
    "from sklearn import metrics\n",
    "from sklearn.linear_model import LogisticRegression\n",
    "from sklearn.discriminant_analysis import LinearDiscriminantAnalysis\n",
    "from sklearn.neighbors import KNeighborsClassifier\n",
    "from sklearn.naive_bayes import GaussianNB\n",
    "from sklearn.ensemble import BaggingClassifier\n",
    "from sklearn.ensemble import RandomForestClassifier\n",
    "from sklearn.ensemble import AdaBoostClassifier\n",
    "from sklearn.ensemble import GradientBoostingClassifier\n",
    "from sklearn.metrics import roc_auc_score,roc_curve,classification_report,confusion_matrix,plot_confusion_matrix"
   ]
  },
  {
   "cell_type": "code",
   "execution_count": null,
   "id": "cb9b925e",
   "metadata": {},
   "outputs": [],
   "source": [
    "ele_df = pd.read_excel(\"Election_Data.xlsx\",sheet_name =\"Election_Dataset_Two Classes\")\n",
    "ele_df.head()"
   ]
  },
  {
   "cell_type": "code",
   "execution_count": null,
   "id": "47949dc1",
   "metadata": {},
   "outputs": [],
   "source": [
    "ele_df = ele_df.drop(\"Unnamed: 0\",axis = 1)"
   ]
  },
  {
   "cell_type": "code",
   "execution_count": null,
   "id": "59b4d8b6",
   "metadata": {},
   "outputs": [],
   "source": [
    "ele_df.shape"
   ]
  },
  {
   "cell_type": "code",
   "execution_count": null,
   "id": "cb46c380",
   "metadata": {},
   "outputs": [],
   "source": [
    "ele_df.info()"
   ]
  },
  {
   "cell_type": "code",
   "execution_count": null,
   "id": "d61bcd6d",
   "metadata": {},
   "outputs": [],
   "source": [
    "ele_df.isnull().sum()\n"
   ]
  },
  {
   "cell_type": "code",
   "execution_count": null,
   "id": "0d1966cd",
   "metadata": {},
   "outputs": [],
   "source": [
    "ele_df.describe(include = \"all\").T"
   ]
  },
  {
   "cell_type": "code",
   "execution_count": null,
   "id": "4578bc62",
   "metadata": {},
   "outputs": [],
   "source": [
    "ele_df.skew()"
   ]
  },
  {
   "cell_type": "code",
   "execution_count": null,
   "id": "aa2ffcd0",
   "metadata": {},
   "outputs": [],
   "source": [
    "dups = ele_df.duplicated().sum()\n",
    "print('Number of duplicate rows = %d' % (dups.sum()))"
   ]
  },
  {
   "cell_type": "code",
   "execution_count": null,
   "id": "bfc9ad29",
   "metadata": {},
   "outputs": [],
   "source": [
    "print('Before',ele_df.shape)\n",
    "ele_df.drop_duplicates(inplace=True) \n",
    "print('After',ele_df.shape)"
   ]
  },
  {
   "cell_type": "code",
   "execution_count": null,
   "id": "72fa004e",
   "metadata": {},
   "outputs": [],
   "source": [
    "for column in ele_df.columns:\n",
    "    if ele_df[column].dtype == 'object':\n",
    "        print(column.upper(),': ',ele_df[column].nunique())\n",
    "        print(ele_df[column].value_counts().sort_values())\n",
    "        print('\\n')"
   ]
  },
  {
   "cell_type": "markdown",
   "id": "941b2f5c",
   "metadata": {},
   "source": [
    "1.2 Perform Univariate and Bivariate Analysis. Do exploratory data analysis. Check for Outliers."
   ]
  },
  {
   "cell_type": "code",
   "execution_count": null,
   "id": "10b8a4e4",
   "metadata": {},
   "outputs": [],
   "source": [
    "fig, axes = plt.subplots(nrows=7,ncols=2)\n",
    "fig.set_size_inches(15,18)\n",
    "\n",
    "a = sns.distplot(ele_df['age'] , ax=axes[0][0])\n",
    "a.set_title(\"age Distribution\",fontsize=10)\n",
    "a = sns.boxplot(ele_df['age'] , orient = \"v\" , ax=axes[0][1])\n",
    "a.set_title(\" age\",fontsize=10)\n",
    "\n",
    "a = sns.distplot(ele_df['economic.cond.national'] , ax=axes[1][0])\n",
    "a.set_title(\"economic.cond.national Distribution\",fontsize=10)\n",
    "a = sns.boxplot(ele_df['economic.cond.national'] , orient = \"v\" , ax=axes[1][1])\n",
    "a.set_title(\"economic.cond.national Boxplot\",fontsize=10)\n",
    "\n",
    "\n",
    "a = sns.distplot(ele_df['economic.cond.household'] , ax=axes[2][0])\n",
    "a.set_title(\"economic.cond.household Distribution\",fontsize=10)\n",
    "a = sns.boxplot(ele_df['economic.cond.household'] , orient = \"v\" , ax=axes[2][1])\n",
    "a.set_title(\"economic.cond.household Boxplot\",fontsize=10)\n",
    "\n",
    "\n",
    "a = sns.distplot(ele_df['Blair'] , ax=axes[3][0])\n",
    "a.set_title(\"Blair Distribution\",fontsize=10)\n",
    "a = sns.boxplot(ele_df['Blair'] , orient = \"v\" , ax=axes[3][1])\n",
    "a.set_title(\"Blair Boxplot\",fontsize=10)\n",
    "\n",
    "\n",
    "a = sns.distplot(ele_df['Hague'] , ax=axes[4][0])\n",
    "a.set_title(\"Hague Distribution\",fontsize=10)\n",
    "a = sns.boxplot(ele_df['Hague'] , orient = \"v\" , ax=axes[4][1])\n",
    "a.set_title(\"Hague Boxplot\",fontsize=10)\n",
    "\n",
    "\n",
    "a = sns.distplot(ele_df['Europe'] , ax=axes[5][0])\n",
    "a.set_title(\"Europe Distribution\",fontsize=10)\n",
    "a = sns.boxplot(ele_df['Europe'] , orient = \"v\" , ax=axes[5][1])\n",
    "a.set_title(\"Europe Boxplot\",fontsize=10)\n",
    "\n",
    "\n",
    "a = sns.distplot(ele_df['political.knowledge'] , ax=axes[6][0])\n",
    "a.set_title(\"political knowledge Distribution\",fontsize=10)\n",
    "a = sns.boxplot(ele_df['political.knowledge'] , orient = \"v\" , ax=axes[6][1])\n",
    "a.set_title(\"political knowledge Boxplot\",fontsize=10)\n",
    "\n",
    "plt.show()"
   ]
  },
  {
   "cell_type": "code",
   "execution_count": null,
   "id": "ed0a1747",
   "metadata": {},
   "outputs": [],
   "source": [
    "sns.barplot(ele_df.vote.value_counts().index,ele_df.vote.value_counts().values)\n",
    "plt.title(\"vote: Party choice: Conservative or Labour\")\n",
    "plt.show()\n",
    "print(ele_df.vote.value_counts(normalize=True))"
   ]
  },
  {
   "cell_type": "code",
   "execution_count": null,
   "id": "e86bc1b8",
   "metadata": {},
   "outputs": [],
   "source": [
    "sns.barplot(ele_df.gender.value_counts().index,ele_df.gender.value_counts().values)\n",
    "plt.title(\"Gender\")\n",
    "plt.show()\n",
    "print(ele_df.gender.value_counts(normalize=True))"
   ]
  },
  {
   "cell_type": "code",
   "execution_count": null,
   "id": "d212c8e1",
   "metadata": {},
   "outputs": [],
   "source": [
    "sns.pairplot(ele_df,hue=\"vote\")"
   ]
  },
  {
   "cell_type": "code",
   "execution_count": null,
   "id": "fbb36d8e",
   "metadata": {},
   "outputs": [],
   "source": [
    "plt.figure(figsize=(20,10))\n",
    "sns.heatmap(round(ele_df.corr(),2), annot=True,mask=np.triu(ele_df.corr(),+1));\n",
    "plt.title('Correlation Heatmap Plot')\n",
    "plt.show()"
   ]
  },
  {
   "cell_type": "code",
   "execution_count": null,
   "id": "49b0d486",
   "metadata": {},
   "outputs": [],
   "source": [
    "ele_df.columns\n"
   ]
  },
  {
   "cell_type": "code",
   "execution_count": null,
   "id": "3f181b82",
   "metadata": {},
   "outputs": [],
   "source": [
    "plt.figure(figsize=(5,5))\n",
    "ax = sns.barplot(x='vote', y='economic.cond.national',data=ele_df)\n",
    "plt.title(\"vote vs economic.cond.national\")"
   ]
  },
  {
   "cell_type": "code",
   "execution_count": null,
   "id": "abc422c7",
   "metadata": {},
   "outputs": [],
   "source": [
    "plt.figure(figsize=(10,7))\n",
    "sns.stripplot(ele_df[\"economic.cond.national\"], ele_df[\"age\"], jitter=True) \n",
    "plt.show()"
   ]
  },
  {
   "cell_type": "code",
   "execution_count": null,
   "id": "27cba742",
   "metadata": {},
   "outputs": [],
   "source": [
    "plt.figure(figsize=(8,8))\n",
    "sns.stripplot(ele_df[\"Hague\"], ele_df['age'], jitter=True) \n",
    "plt.show()"
   ]
  },
  {
   "cell_type": "code",
   "execution_count": null,
   "id": "3a3e94e3",
   "metadata": {},
   "outputs": [],
   "source": [
    "#Catplot Analysis - Hague(count) on economic.cond.household\n",
    "sns.catplot(x=\"Hague\", kind=\"count\",hue='economic.cond.household',data=ele_df)"
   ]
  },
  {
   "cell_type": "code",
   "execution_count": null,
   "id": "8b391b2d",
   "metadata": {},
   "outputs": [],
   "source": [
    "#Catplot Analysis - Blair(count) on economic.cond.national\n",
    "sns.catplot(x=\"Blair\", kind=\"count\",hue='economic.cond.national',data=ele_df)"
   ]
  },
  {
   "cell_type": "code",
   "execution_count": null,
   "id": "afc3e930",
   "metadata": {},
   "outputs": [],
   "source": [
    "#Catplot Analysis - Hague(count) on economic.cond.national\n",
    "sns.catplot(x=\"Hague\", kind=\"count\",hue='economic.cond.national',data=ele_df)"
   ]
  },
  {
   "cell_type": "code",
   "execution_count": null,
   "id": "a1295a7f",
   "metadata": {},
   "outputs": [],
   "source": [
    "#Catplot Analysis - Hague(count) on Europe\n",
    "sns.catplot(x=\"Hague\", kind=\"count\",hue='Europe',data=ele_df)"
   ]
  },
  {
   "cell_type": "code",
   "execution_count": null,
   "id": "d762ca27",
   "metadata": {},
   "outputs": [],
   "source": [
    "sns.catplot(x=\"Blair\", kind=\"count\",hue='Europe',data=ele_df)\n"
   ]
  },
  {
   "cell_type": "code",
   "execution_count": null,
   "id": "48242a2e",
   "metadata": {},
   "outputs": [],
   "source": [
    "plt.subplots(figsize=(15,10))\n",
    "\n",
    "sns.boxplot(data=ele_df,orient=\"h\")\n",
    "plt.show()"
   ]
  },
  {
   "cell_type": "code",
   "execution_count": null,
   "id": "b20410ad",
   "metadata": {},
   "outputs": [],
   "source": [
    "def remove_outlier(col):\n",
    "    sorted(col)\n",
    "    Q1,Q3=np.percentile(col,[25,75])\n",
    "    IQR=Q3-Q1\n",
    "    lower_range= Q1-(1.5 * IQR)\n",
    "    upper_range= Q3+(1.5 * IQR)\n",
    "    return lower_range, upper_range"
   ]
  },
  {
   "cell_type": "code",
   "execution_count": null,
   "id": "f3d7d053",
   "metadata": {},
   "outputs": [],
   "source": [
    "dtypes=ele_df.dtypes[(ele_df.dtypes!= 'object')].index\n",
    "for column in ele_df[dtypes].columns:\n",
    "    lr,ur=remove_outlier(ele_df[column])\n",
    "    ele_df[column]=np.where(ele_df[column]>ur,ur,ele_df[column])\n",
    "    ele_df[column]=np.where(ele_df[column]<lr,lr,ele_df[column])"
   ]
  },
  {
   "cell_type": "code",
   "execution_count": null,
   "id": "b65d6051",
   "metadata": {},
   "outputs": [],
   "source": [
    "plt.subplots(figsize=(15,10))\n",
    "\n",
    "sns.boxplot(data=ele_df,orient=\"h\")\n",
    "plt.show()"
   ]
  },
  {
   "cell_type": "code",
   "execution_count": null,
   "id": "a4160860",
   "metadata": {},
   "outputs": [],
   "source": [
    "ele_df['age'] = ele_df['age'].astype('int64')\n",
    "ele_df['economic.cond.national'] = ele_df['economic.cond.national'].astype('int64')\n",
    "ele_df['economic.cond.household'] = ele_df['economic.cond.household'].astype('int64')\n",
    "ele_df['Blair'] = ele_df['Blair'].astype('int64')\n",
    "ele_df['Hague'] = ele_df['Hague'].astype('int64')\n",
    "ele_df['Europe'] = ele_df['Europe'].astype('int64')\n",
    "ele_df['political.knowledge'] = ele_df['political.knowledge'].astype('int64')"
   ]
  },
  {
   "cell_type": "code",
   "execution_count": null,
   "id": "8f972b98",
   "metadata": {},
   "outputs": [],
   "source": [
    "display(ele_df.dtypes)\n"
   ]
  },
  {
   "cell_type": "markdown",
   "id": "da5b1e4d",
   "metadata": {},
   "source": [
    "1.3 Encode the data (having string values) for Modelling. Is Scaling necessary here or not? Data Split: Split the data into train and test (70:30)."
   ]
  },
  {
   "cell_type": "code",
   "execution_count": null,
   "id": "406b1fee",
   "metadata": {},
   "outputs": [],
   "source": [
    "#Converting Object variables to categorical variables:\n",
    "for feature in ele_df.columns: \n",
    "    if ele_df[feature].dtype == 'object': \n",
    "        print('\\n')\n",
    "        print('feature:',feature)\n",
    "        print(pd.Categorical(ele_df[feature].unique()))\n",
    "        print(pd.Categorical(ele_df[feature].unique()).codes)\n",
    "        ele_df[feature] = pd.Categorical(ele_df[feature]).codes"
   ]
  },
  {
   "cell_type": "code",
   "execution_count": null,
   "id": "57272b7a",
   "metadata": {},
   "outputs": [],
   "source": [
    "ele_df.vote.value_counts(normalize=True)\n"
   ]
  },
  {
   "cell_type": "code",
   "execution_count": null,
   "id": "ce89017a",
   "metadata": {},
   "outputs": [],
   "source": [
    "ele_df.info()\n"
   ]
  },
  {
   "cell_type": "code",
   "execution_count": null,
   "id": "6d4759b4",
   "metadata": {},
   "outputs": [],
   "source": [
    "# Converting int8 to int64 variables\n",
    "ele_df['vote'] = ele_df['vote'].astype('int64')\n",
    "ele_df['gender'] = ele_df['gender'].astype('int64')"
   ]
  },
  {
   "cell_type": "code",
   "execution_count": null,
   "id": "79b41e7f",
   "metadata": {},
   "outputs": [],
   "source": [
    "ele_df.info()\n"
   ]
  },
  {
   "cell_type": "code",
   "execution_count": null,
   "id": "3d8d5f1f",
   "metadata": {
    "scrolled": true
   },
   "outputs": [],
   "source": [
    "ele_df_copy = ele_df.copy()\n",
    "ele_df_copy.head()"
   ]
  },
  {
   "cell_type": "code",
   "execution_count": null,
   "id": "705ce9c5",
   "metadata": {},
   "outputs": [],
   "source": [
    "#Train-Test Split\n",
    "X = ele_df.drop('vote', axis=1)\n",
    "\n",
    "y = ele_df[['vote']]"
   ]
  },
  {
   "cell_type": "code",
   "execution_count": null,
   "id": "1feb39b7",
   "metadata": {},
   "outputs": [],
   "source": [
    "#Applying Z score scaling on Variable X - To be used in specific algorithms \n",
    "age1=['age']\n",
    "X_scaled=X.copy()\n",
    "y_new = y.copy()\n",
    "X_scaled[age1] = X_scaled[age1].apply(lambda x:(x-x.mean()) / (x.std()))"
   ]
  },
  {
   "cell_type": "code",
   "execution_count": null,
   "id": "c18fadbb",
   "metadata": {},
   "outputs": [],
   "source": [
    "X_train, X_test, y_train, y_test = train_test_split(X, y, test_size=0.30 , random_state=1)"
   ]
  },
  {
   "cell_type": "code",
   "execution_count": null,
   "id": "85471add",
   "metadata": {},
   "outputs": [],
   "source": [
    "print('The training set for the independent variables:',X_train.shape)\n",
    "print('The training set for the dependent variable:',y_train.shape)\n",
    "print('The test set for the independent variables:',X_test.shape)\n",
    "print('The test set for the dependent variable:',y_test.shape)"
   ]
  },
  {
   "cell_type": "code",
   "execution_count": null,
   "id": "aaa18e28",
   "metadata": {},
   "outputs": [],
   "source": [
    "X_trains, X_tests, y_trains, y_tests = train_test_split(X_scaled, y_new, test_size=0.30 , random_state=1)\n"
   ]
  },
  {
   "cell_type": "code",
   "execution_count": null,
   "id": "76589f59",
   "metadata": {},
   "outputs": [],
   "source": [
    "print('The training set for the independent variables:',X_trains.shape)\n",
    "print('The training set for the dependent variable:',y_trains.shape)\n",
    "print('The test set for the independent variables:',X_tests.shape)\n",
    "print('The test set for the dependent variable:',y_tests.shape)"
   ]
  },
  {
   "cell_type": "markdown",
   "id": "58f73cc9",
   "metadata": {},
   "source": [
    "1.4 Apply Logistic Regression and LDA (linear discriminant analysis).\n"
   ]
  },
  {
   "cell_type": "code",
   "execution_count": null,
   "id": "dfa2658a",
   "metadata": {},
   "outputs": [],
   "source": [
    "# Fit the Logistic Regression model\n",
    "modellr = LogisticRegression()\n",
    "modellr.fit(X_train, y_train)"
   ]
  },
  {
   "cell_type": "code",
   "execution_count": null,
   "id": "dcb79ee6",
   "metadata": {},
   "outputs": [],
   "source": [
    "ytrain_predictlr = modellr.predict(X_train)\n",
    "ytest_predictlr = modellr.predict(X_test)"
   ]
  },
  {
   "cell_type": "code",
   "execution_count": null,
   "id": "02ac7447",
   "metadata": {},
   "outputs": [],
   "source": [
    "ytest_predict_problr=modellr.predict_proba(X_test)\n",
    "pd.DataFrame(ytest_predict_problr).head()"
   ]
  },
  {
   "cell_type": "code",
   "execution_count": null,
   "id": "e1fa7dfb",
   "metadata": {},
   "outputs": [],
   "source": [
    "modellr.score(X_train, y_train)\n"
   ]
  },
  {
   "cell_type": "code",
   "execution_count": null,
   "id": "1d85e0ab",
   "metadata": {},
   "outputs": [],
   "source": [
    "modellr.score(X_test, y_test)\n"
   ]
  },
  {
   "cell_type": "code",
   "execution_count": null,
   "id": "a8444d18",
   "metadata": {},
   "outputs": [],
   "source": [
    "grid1={'penalty':['l2','none'],\n",
    "      'solver':['newton-cg',  'saga'],\n",
    "      'max_iter':[10000,100000],\n",
    "      'tol':[0.0001,0.001]\n",
    "     }"
   ]
  },
  {
   "cell_type": "code",
   "execution_count": null,
   "id": "7f00e94d",
   "metadata": {},
   "outputs": [],
   "source": [
    "modellr1 = LogisticRegression()\n"
   ]
  },
  {
   "cell_type": "code",
   "execution_count": null,
   "id": "4a1b4906",
   "metadata": {},
   "outputs": [],
   "source": [
    "grid_searchlr = GridSearchCV(estimator = modellr1, param_grid = grid1, cv = 3,n_jobs=-1,scoring='accuracy')\n"
   ]
  },
  {
   "cell_type": "code",
   "execution_count": null,
   "id": "4012aa63",
   "metadata": {},
   "outputs": [],
   "source": [
    "grid_searchlr.fit(X_train, y_train)\n"
   ]
  },
  {
   "cell_type": "code",
   "execution_count": null,
   "id": "c9cfabcb",
   "metadata": {},
   "outputs": [],
   "source": [
    "print(grid_searchlr.best_params_,'\\n')\n",
    "print(grid_searchlr.best_estimator_)"
   ]
  },
  {
   "cell_type": "code",
   "execution_count": null,
   "id": "560e677f",
   "metadata": {},
   "outputs": [],
   "source": [
    "best_modellr = grid_searchlr.best_estimator_\n"
   ]
  },
  {
   "cell_type": "code",
   "execution_count": null,
   "id": "9db6fe3e",
   "metadata": {},
   "outputs": [],
   "source": [
    "ytrain_predictlr = best_modellr.predict(X_train)\n",
    "ytest_predictlr = best_modellr.predict(X_test)"
   ]
  },
  {
   "cell_type": "code",
   "execution_count": null,
   "id": "5dc7d3a4",
   "metadata": {},
   "outputs": [],
   "source": [
    "ytrain_predict_problr=best_modellr.predict_proba(X_train)\n",
    "pd.DataFrame(ytrain_predict_problr).head()"
   ]
  },
  {
   "cell_type": "code",
   "execution_count": null,
   "id": "279fef75",
   "metadata": {},
   "outputs": [],
   "source": [
    "ytest_predict_problr=best_modellr.predict_proba(X_test)\n",
    "pd.DataFrame(ytest_predict_problr).head()"
   ]
  },
  {
   "cell_type": "code",
   "execution_count": null,
   "id": "cb7d50e0",
   "metadata": {},
   "outputs": [],
   "source": [
    "accuracy_lr_train= best_modellr.score(X_train, y_train)\n",
    "accuracy_lr_train"
   ]
  },
  {
   "cell_type": "code",
   "execution_count": null,
   "id": "044a37c1",
   "metadata": {},
   "outputs": [],
   "source": [
    "accuracy_lr_test= best_modellr.score(X_test, y_test)\n",
    "accuracy_lr_test"
   ]
  },
  {
   "cell_type": "code",
   "execution_count": null,
   "id": "f1c50f1e",
   "metadata": {},
   "outputs": [],
   "source": [
    "print(\"The intercept for the model is :\",best_modellr.intercept_)\n"
   ]
  },
  {
   "cell_type": "code",
   "execution_count": null,
   "id": "020a92de",
   "metadata": {},
   "outputs": [],
   "source": [
    "for idx, col_name in enumerate(X_train.columns):\n",
    "    print(\"The coefficient for {} is {}\".format(col_name, best_modellr.coef_[0][idx]))"
   ]
  },
  {
   "cell_type": "code",
   "execution_count": null,
   "id": "441af375",
   "metadata": {},
   "outputs": [],
   "source": [
    "#Feature Importance Graphs\n",
    "importance = best_modellr.coef_[0]\n",
    "# summarize feature importance\n",
    "for i,v in enumerate(importance):\n",
    "    print('Feature: %0d, Score: %.5f' % (i,v))\n",
    "# plot feature importance\n",
    "plt.bar([x for x in range(len(importance))], importance)\n",
    "plt.show()"
   ]
  },
  {
   "cell_type": "code",
   "execution_count": null,
   "id": "dc892a40",
   "metadata": {},
   "outputs": [],
   "source": [
    "# concatenate X and y into a single dataframe\n",
    "data_train1 = pd.concat([X_train, y_train], axis=1)\n",
    "data_test1=pd.concat([X_test,y_test],axis=1)\n",
    "data_train1.head()"
   ]
  },
  {
   "cell_type": "code",
   "execution_count": null,
   "id": "763aa084",
   "metadata": {},
   "outputs": [],
   "source": [
    "# Fit the Logistic Regression model\n",
    "model = LogisticRegression()\n",
    "model.fit(X_trains, y_trains)"
   ]
  },
  {
   "cell_type": "code",
   "execution_count": null,
   "id": "4b866856",
   "metadata": {},
   "outputs": [],
   "source": [
    "ytrain_predict = model.predict(X_trains)\n",
    "ytest_predict = model.predict(X_tests)"
   ]
  },
  {
   "cell_type": "code",
   "execution_count": null,
   "id": "12b7d01e",
   "metadata": {},
   "outputs": [],
   "source": [
    "ytest_predict_prob=model.predict_proba(X_tests)\n",
    "pd.DataFrame(ytest_predict_prob).head()"
   ]
  },
  {
   "cell_type": "code",
   "execution_count": null,
   "id": "00737a37",
   "metadata": {},
   "outputs": [],
   "source": [
    "model.score(X_trains, y_trains)\n"
   ]
  },
  {
   "cell_type": "code",
   "execution_count": null,
   "id": "f635976b",
   "metadata": {},
   "outputs": [],
   "source": [
    "model.score(X_tests, y_tests)\n"
   ]
  },
  {
   "cell_type": "code",
   "execution_count": null,
   "id": "7392932b",
   "metadata": {},
   "outputs": [],
   "source": [
    "grid={'penalty':['l2'],\n",
    "      'solver':['saga'],\n",
    "      'max_iter':[1000,100],\n",
    "      'tol':[0.00001,0.001]\n",
    "     }"
   ]
  },
  {
   "cell_type": "code",
   "execution_count": null,
   "id": "2b2612ec",
   "metadata": {},
   "outputs": [],
   "source": [
    "model1 = LogisticRegression()\n"
   ]
  },
  {
   "cell_type": "code",
   "execution_count": null,
   "id": "c5728481",
   "metadata": {},
   "outputs": [],
   "source": [
    "grid_search = GridSearchCV(estimator = model1, param_grid = grid, cv = 7,n_jobs=-1,scoring='accuracy')\n"
   ]
  },
  {
   "cell_type": "code",
   "execution_count": null,
   "id": "ae547e9e",
   "metadata": {},
   "outputs": [],
   "source": [
    "grid_search.fit(X_trains, y_trains)\n"
   ]
  },
  {
   "cell_type": "code",
   "execution_count": null,
   "id": "1398b0de",
   "metadata": {},
   "outputs": [],
   "source": [
    "print(grid_search.best_params_,'\\n')\n",
    "print(grid_search.best_estimator_)"
   ]
  },
  {
   "cell_type": "code",
   "execution_count": null,
   "id": "a62895dd",
   "metadata": {},
   "outputs": [],
   "source": [
    "best_model = grid_search.best_estimator_\n"
   ]
  },
  {
   "cell_type": "code",
   "execution_count": null,
   "id": "48ea2133",
   "metadata": {},
   "outputs": [],
   "source": [
    "ytrain_predictlr1 = best_model.predict(X_trains)\n",
    "ytest_predictlr1 = best_model.predict(X_tests)"
   ]
  },
  {
   "cell_type": "code",
   "execution_count": null,
   "id": "d338e911",
   "metadata": {},
   "outputs": [],
   "source": [
    "ytrain_predict_prob1=best_model.predict_proba(X_trains)\n",
    "pd.DataFrame(ytrain_predict_prob1).head()"
   ]
  },
  {
   "cell_type": "code",
   "execution_count": null,
   "id": "b625dadc",
   "metadata": {},
   "outputs": [],
   "source": [
    "ytest_predict_prob1=best_model.predict_proba(X_tests)\n",
    "pd.DataFrame(ytest_predict_prob1).head()"
   ]
  },
  {
   "cell_type": "code",
   "execution_count": null,
   "id": "b2cfb8f6",
   "metadata": {},
   "outputs": [],
   "source": [
    "# Accuracy - Training Data\n",
    "# Training Accuracy\n",
    "accuracy_lr_train= best_model.score(X_trains, y_trains)\n",
    "accuracy_lr_train"
   ]
  },
  {
   "cell_type": "code",
   "execution_count": null,
   "id": "da50dacb",
   "metadata": {},
   "outputs": [],
   "source": [
    "accuracy_lr_test= best_model.score(X_tests, y_tests)\n",
    "accuracy_lr_test"
   ]
  },
  {
   "cell_type": "code",
   "execution_count": null,
   "id": "01ea226c",
   "metadata": {},
   "outputs": [],
   "source": [
    "print(\"The intercept for the model is :\",best_model.intercept_)\n"
   ]
  },
  {
   "cell_type": "code",
   "execution_count": null,
   "id": "d2df73f6",
   "metadata": {},
   "outputs": [],
   "source": [
    "for idx, col_name in enumerate(X_trains.columns):\n",
    "    print(\"The coefficient for {} is {}\".format(col_name, best_model.coef_[0][idx]))"
   ]
  },
  {
   "cell_type": "code",
   "execution_count": null,
   "id": "f3649289",
   "metadata": {},
   "outputs": [],
   "source": [
    "#Feature Importance Graphs\n",
    "importance = best_model.coef_[0]\n",
    "# summarize feature importance\n",
    "for i,v in enumerate(importance):\n",
    "    print('Feature: %0d, Score: %.5f' % (i,v))\n",
    "# plot feature importance\n",
    "plt.bar([x for x in range(len(importance))], importance)\n",
    "plt.show()"
   ]
  },
  {
   "cell_type": "code",
   "execution_count": null,
   "id": "1ad29936",
   "metadata": {},
   "outputs": [],
   "source": [
    "# concatenate X and y into a single dataframe\n",
    "data_train = pd.concat([X_trains, y_trains], axis=1)\n",
    "data_test=pd.concat([X_tests,y_tests],axis=1)\n",
    "data_train.head()"
   ]
  },
  {
   "cell_type": "code",
   "execution_count": null,
   "id": "a9095b1e",
   "metadata": {},
   "outputs": [],
   "source": [
    "#Statsmodels is a Python module which provides various functions for estimating different statistical models and performing statistical tests\n",
    "#first, we define the set of dependent(y) and independent(X) variables.  If the dependent variable is in non-numeric form, it is first converted to numeric using encoding\n",
    "import statsmodels.api as sm "
   ]
  },
  {
   "cell_type": "code",
   "execution_count": null,
   "id": "f4ad5ef2",
   "metadata": {},
   "outputs": [],
   "source": [
    "log_reg = sm.Logit(y_trains, X_trains).fit()\n"
   ]
  },
  {
   "cell_type": "code",
   "execution_count": null,
   "id": "b1ea5efc",
   "metadata": {},
   "outputs": [],
   "source": [
    "print(log_reg.summary()) \n"
   ]
  },
  {
   "cell_type": "markdown",
   "id": "9e5f6b1a",
   "metadata": {},
   "source": [
    "LDA"
   ]
  },
  {
   "cell_type": "code",
   "execution_count": null,
   "id": "dcfafe8b",
   "metadata": {},
   "outputs": [],
   "source": [
    "# Linear Discriminant Analysis(LDA) is a dimensionality reduction technique which is commonly used for the supervised classification problems. \n",
    "#It is used for modeling differences in groups i.e. separating two or more classes. It is used to project the features in higher dimension space into a lower dimension space.\n",
    "# library used in LDA is sklearn"
   ]
  },
  {
   "cell_type": "code",
   "execution_count": null,
   "id": "38116cde",
   "metadata": {},
   "outputs": [],
   "source": [
    "clf = LinearDiscriminantAnalysis()\n",
    "model_lda=clf.fit(X_trains,y_trains)"
   ]
  },
  {
   "cell_type": "code",
   "execution_count": null,
   "id": "b6580d49",
   "metadata": {},
   "outputs": [],
   "source": [
    "# Training Data Class Prediction with a cut-off value of 0.5\n",
    "pred_class_train_lda = model_lda.predict(X_trains)\n",
    "\n",
    "# Test Data Class Prediction with a cut-off value of 0.5\n",
    "pred_class_test_lda = model_lda.predict(X_tests)"
   ]
  },
  {
   "cell_type": "code",
   "execution_count": null,
   "id": "df31d544",
   "metadata": {},
   "outputs": [],
   "source": [
    "ytrain_predict_problda1=model_lda.predict_proba(X_trains)\n",
    "pd.DataFrame(ytrain_predict_problda1).head()\n"
   ]
  },
  {
   "cell_type": "code",
   "execution_count": null,
   "id": "7cb028a9",
   "metadata": {},
   "outputs": [],
   "source": [
    "ytest_predict_problda1=model_lda.predict_proba(X_tests)\n",
    "pd.DataFrame(ytest_predict_problda1).head()\n"
   ]
  },
  {
   "cell_type": "code",
   "execution_count": null,
   "id": "9db2e41e",
   "metadata": {},
   "outputs": [],
   "source": [
    "# Accuracy - Training Data\n",
    "# Training Accuracy\n",
    "accuracy_lda_train= model_lda.score(X_trains, y_trains)\n",
    "accuracy_lda_train"
   ]
  },
  {
   "cell_type": "code",
   "execution_count": null,
   "id": "a4ef6cb3",
   "metadata": {},
   "outputs": [],
   "source": [
    "accuracy_lda_test= model_lda.score(X_tests, y_tests)\n",
    "accuracy_lda_test"
   ]
  },
  {
   "cell_type": "code",
   "execution_count": null,
   "id": "bbfa10a2",
   "metadata": {},
   "outputs": [],
   "source": [
    "grid_lda={\n",
    "      'solver':['svd', 'lsqr', 'eigen'],\n",
    "      \n",
    "     }"
   ]
  },
  {
   "cell_type": "code",
   "execution_count": null,
   "id": "80cee4e2",
   "metadata": {},
   "outputs": [],
   "source": [
    "model_lda = LinearDiscriminantAnalysis()\n"
   ]
  },
  {
   "cell_type": "code",
   "execution_count": null,
   "id": "0acb0afa",
   "metadata": {},
   "outputs": [],
   "source": [
    "grid_search_lda = GridSearchCV(estimator = model_lda, param_grid = grid_lda, cv = 7,n_jobs=-1,scoring='accuracy')\n"
   ]
  },
  {
   "cell_type": "code",
   "execution_count": null,
   "id": "bb79ae90",
   "metadata": {},
   "outputs": [],
   "source": [
    "grid_search_lda.fit(X_trains, y_trains)\n"
   ]
  },
  {
   "cell_type": "code",
   "execution_count": null,
   "id": "bf161f4a",
   "metadata": {},
   "outputs": [],
   "source": [
    "print(grid_search_lda.best_params_,'\\n')\n",
    "print(grid_search_lda.best_estimator_)"
   ]
  },
  {
   "cell_type": "code",
   "execution_count": null,
   "id": "86bcebdd",
   "metadata": {},
   "outputs": [],
   "source": [
    "best_model_lda = grid_search_lda.best_estimator_\n"
   ]
  },
  {
   "cell_type": "code",
   "execution_count": null,
   "id": "451d33d5",
   "metadata": {},
   "outputs": [],
   "source": [
    "ytrain_predictlda = best_model_lda.predict(X_trains)\n",
    "ytest_predictlda = best_model_lda.predict(X_tests)"
   ]
  },
  {
   "cell_type": "code",
   "execution_count": null,
   "id": "571ac00a",
   "metadata": {},
   "outputs": [],
   "source": [
    "ytrain_predictlda\n"
   ]
  },
  {
   "cell_type": "code",
   "execution_count": null,
   "id": "4caa71a0",
   "metadata": {},
   "outputs": [],
   "source": [
    "ytrain_predict_problda=best_model_lda.predict_proba(X_trains)\n",
    "pd.DataFrame(ytrain_predict_problda).head()"
   ]
  },
  {
   "cell_type": "code",
   "execution_count": null,
   "id": "99e3bb98",
   "metadata": {},
   "outputs": [],
   "source": [
    "ytest_predict_problda=best_model_lda.predict_proba(X_tests)\n",
    "pd.DataFrame(ytest_predict_problda).head()"
   ]
  },
  {
   "cell_type": "code",
   "execution_count": null,
   "id": "7a3e0a86",
   "metadata": {},
   "outputs": [],
   "source": [
    "# Accuracy - Training Data\n",
    "# Training Accuracy\n",
    "accuracy_lda_train= best_model_lda.score(X_trains, y_trains)\n",
    "accuracy_lda_train"
   ]
  },
  {
   "cell_type": "code",
   "execution_count": null,
   "id": "f87aaf1e",
   "metadata": {},
   "outputs": [],
   "source": [
    "accuracy_lda_test= best_model_lda.score(X_tests, y_tests)\n",
    "accuracy_lda_test"
   ]
  },
  {
   "cell_type": "markdown",
   "id": "7178163c",
   "metadata": {},
   "source": [
    "# 1.5 Apply KNN Model and Naïve Bayes Model. Interpret the results.\n"
   ]
  },
  {
   "cell_type": "code",
   "execution_count": null,
   "id": "8f46c9a9",
   "metadata": {},
   "outputs": [],
   "source": [
    "from sklearn.neighbors import KNeighborsClassifier\n",
    "\n",
    "KNN_model=KNeighborsClassifier(n_neighbors = 15)\n",
    "KNN_model.fit(X_trains,y_trains)"
   ]
  },
  {
   "cell_type": "code",
   "execution_count": null,
   "id": "9ea7f4ca",
   "metadata": {},
   "outputs": [],
   "source": [
    "KNN_model.score(X_trains,y_trains)\n"
   ]
  },
  {
   "cell_type": "code",
   "execution_count": null,
   "id": "3fdd61c8",
   "metadata": {},
   "outputs": [],
   "source": [
    "KNN_model.score(X_tests,y_tests)\n"
   ]
  },
  {
   "cell_type": "code",
   "execution_count": null,
   "id": "23076b82",
   "metadata": {},
   "outputs": [],
   "source": [
    "# empty list that will hold accuracy scores\n",
    "ac_scores = []\n",
    "\n",
    "# perform accuracy metrics for values from 1,3,5....19\n",
    "for k in range(1,20,2):\n",
    "    knn = KNeighborsClassifier(n_neighbors=k)\n",
    "    knn.fit(X_trains, y_trains)\n",
    "    # evaluate test accuracy\n",
    "    scores = knn.score(X_tests, y_tests)\n",
    "    ac_scores.append(scores)\n",
    "\n",
    "# changing to misclassification error\n",
    "MCE = [1 - x for x in ac_scores]\n",
    "MCE"
   ]
  },
  {
   "cell_type": "markdown",
   "id": "2da0cedc",
   "metadata": {},
   "source": [
    "Plot misclassification error vs k (with k value on X-axis) using matplotlib\n"
   ]
  },
  {
   "cell_type": "code",
   "execution_count": null,
   "id": "1cddc129",
   "metadata": {},
   "outputs": [],
   "source": [
    "import matplotlib.pyplot as plt\n",
    "# plot misclassification error vs k\n",
    "plt.plot(range(1,20,2), MCE)\n",
    "plt.xlabel('Number of Neighbors K')\n",
    "plt.ylabel('Misclassification Error')\n",
    "plt.show()"
   ]
  },
  {
   "cell_type": "code",
   "execution_count": null,
   "id": "d6a059e2",
   "metadata": {},
   "outputs": [],
   "source": [
    "## Performance Matrix on train data set\n",
    "y_train_predict_knn = KNN_model.predict(X_trains)\n",
    "acc_train_knn = KNN_model.score(X_trains, y_trains)\n",
    "print(acc_train_knn)\n",
    "print(metrics.confusion_matrix(y_trains, y_train_predict_knn))\n",
    "print(metrics.classification_report(y_trains, y_train_predict_knn))"
   ]
  },
  {
   "cell_type": "code",
   "execution_count": null,
   "id": "9872d4c6",
   "metadata": {},
   "outputs": [],
   "source": [
    "## Performance Matrix on test data set\n",
    "y_test_predict_knn = KNN_model.predict(X_tests)\n",
    "acc_test_knn = KNN_model.score(X_tests, y_tests)\n",
    "print(acc_test_knn)\n",
    "print(metrics.confusion_matrix(y_tests, y_test_predict_knn))\n",
    "print(metrics.classification_report(y_tests, y_test_predict_knn))"
   ]
  },
  {
   "cell_type": "code",
   "execution_count": null,
   "id": "4f098e59",
   "metadata": {},
   "outputs": [],
   "source": [
    "ytrain_predict_prob_knn=KNN_model.predict_proba(X_trains)\n",
    "pd.DataFrame(ytrain_predict_prob_knn).head()"
   ]
  },
  {
   "cell_type": "code",
   "execution_count": null,
   "id": "d7669219",
   "metadata": {},
   "outputs": [],
   "source": [
    "ytest_predict_prob_knn=KNN_model.predict_proba(X_tests)\n",
    "pd.DataFrame(ytest_predict_prob_knn).head()"
   ]
  },
  {
   "cell_type": "code",
   "execution_count": null,
   "id": "90f5d87f",
   "metadata": {},
   "outputs": [],
   "source": [
    "from sklearn.neighbors import KNeighborsClassifier\n"
   ]
  },
  {
   "cell_type": "code",
   "execution_count": null,
   "id": "1191e3fe",
   "metadata": {},
   "outputs": [],
   "source": [
    "grid_knn={'n_neighbors':[ 5,7,10,15],\n",
    "      'weights': ['uniform','distance'],\n",
    "      'algorithm':['auto', 'ball_tree', 'kd_tree', 'brute']      \n",
    "      }"
   ]
  },
  {
   "cell_type": "code",
   "execution_count": null,
   "id": "1fc4b7ad",
   "metadata": {},
   "outputs": [],
   "source": [
    "model_knn = KNeighborsClassifier()\n"
   ]
  },
  {
   "cell_type": "code",
   "execution_count": null,
   "id": "403211b8",
   "metadata": {},
   "outputs": [],
   "source": [
    "grid_search_knn = GridSearchCV(estimator = model_knn, param_grid = grid_knn,n_jobs=-1, cv = 7,scoring='accuracy')\n"
   ]
  },
  {
   "cell_type": "code",
   "execution_count": null,
   "id": "8a37ed70",
   "metadata": {},
   "outputs": [],
   "source": [
    "grid_search_knn.fit(X_trains, y_trains)\n"
   ]
  },
  {
   "cell_type": "code",
   "execution_count": null,
   "id": "8f13064f",
   "metadata": {},
   "outputs": [],
   "source": [
    "print(grid_search_knn.best_params_,'\\n')\n"
   ]
  },
  {
   "cell_type": "code",
   "execution_count": null,
   "id": "c65e8684",
   "metadata": {},
   "outputs": [],
   "source": [
    "print(grid_search_knn.best_estimator_)\n"
   ]
  },
  {
   "cell_type": "code",
   "execution_count": null,
   "id": "ea1d7bcf",
   "metadata": {},
   "outputs": [],
   "source": [
    "grid_search_knn.score(X_trains,y_trains)\n"
   ]
  },
  {
   "cell_type": "code",
   "execution_count": null,
   "id": "3abef040",
   "metadata": {},
   "outputs": [],
   "source": [
    "grid_search_knn.score(X_tests,y_tests)\n"
   ]
  },
  {
   "cell_type": "markdown",
   "id": "e1d6f48d",
   "metadata": {},
   "source": [
    "Gaussian Naive Bayes\n"
   ]
  },
  {
   "cell_type": "code",
   "execution_count": null,
   "id": "731b402b",
   "metadata": {},
   "outputs": [],
   "source": [
    "from sklearn.naive_bayes import GaussianNB\n"
   ]
  },
  {
   "cell_type": "code",
   "execution_count": null,
   "id": "569a26d6",
   "metadata": {},
   "outputs": [],
   "source": [
    "NB_model = GaussianNB()\n",
    "NB_model.fit(X_trains, y_trains)"
   ]
  },
  {
   "cell_type": "code",
   "execution_count": null,
   "id": "fba0f4ae",
   "metadata": {},
   "outputs": [],
   "source": [
    "y_train_predict_nb = NB_model.predict(X_trains)\n",
    "acc_train_nb = NB_model.score(X_trains, y_trains)                      ## Accuracy\n",
    "print(acc_train_nb)\n",
    "print(metrics.confusion_matrix(y_trains, y_train_predict_nb))          ## confusion_matrix\n",
    "print(metrics.classification_report(y_trains, y_train_predict_nb))     ## classification_report\n"
   ]
  },
  {
   "cell_type": "code",
   "execution_count": null,
   "id": "21cc9e32",
   "metadata": {},
   "outputs": [],
   "source": [
    "## Performance Matrix on test data set\n",
    "y_test_predict_nb = NB_model.predict(X_tests)\n",
    "acc_test_nb = NB_model.score(X_tests, y_tests)                    ## Accuracy\n",
    "print(acc_test_nb)\n",
    "print(metrics.confusion_matrix(y_tests, y_test_predict_nb))         ## confusion_matrix\n",
    "print(metrics.classification_report(y_tests, y_test_predict_nb))    ## classification_report"
   ]
  },
  {
   "cell_type": "code",
   "execution_count": null,
   "id": "3c552833",
   "metadata": {},
   "outputs": [],
   "source": [
    "ytrain_predict_prob_nb=NB_model.predict_proba(X_trains)\n",
    "pd.DataFrame(ytrain_predict_prob_nb).head()"
   ]
  },
  {
   "cell_type": "code",
   "execution_count": null,
   "id": "f7c6966d",
   "metadata": {},
   "outputs": [],
   "source": [
    "ytest_predict_prob_nb=NB_model.predict_proba(X_tests)\n",
    "pd.DataFrame(ytest_predict_prob_nb).head()"
   ]
  },
  {
   "cell_type": "markdown",
   "id": "868f2158",
   "metadata": {},
   "source": [
    "1.6 Model Tuning, Bagging (Random Forest should be applied for Bagging), and Boosting."
   ]
  },
  {
   "cell_type": "markdown",
   "id": "75773fcf",
   "metadata": {},
   "source": [
    "Bagging with randomforest\n"
   ]
  },
  {
   "cell_type": "code",
   "execution_count": null,
   "id": "68e9c4f2",
   "metadata": {},
   "outputs": [],
   "source": [
    "model_rf=RandomForestClassifier(max_depth=4, max_features=5, min_samples_leaf=25,\n",
    "                       min_samples_split=50, n_estimators=101)\n",
    "model_bag=BaggingClassifier(base_estimator=model_rf,n_estimators=101,random_state=1)\n",
    "model_bag.fit(X_trains, y_trains)"
   ]
  },
  {
   "cell_type": "code",
   "execution_count": null,
   "id": "90fe088e",
   "metadata": {},
   "outputs": [],
   "source": [
    "y_train_predict_bag = model_bag.predict(X_trains)\n"
   ]
  },
  {
   "cell_type": "code",
   "execution_count": null,
   "id": "dadd8e99",
   "metadata": {},
   "outputs": [],
   "source": [
    "y_test_predict_bag = model_bag.predict(X_tests)\n"
   ]
  },
  {
   "cell_type": "code",
   "execution_count": null,
   "id": "8c851e54",
   "metadata": {},
   "outputs": [],
   "source": [
    "acc_bag_train =model_bag.score(X_trains, y_trains)\n",
    "acc_bag_train"
   ]
  },
  {
   "cell_type": "code",
   "execution_count": null,
   "id": "dd96ea66",
   "metadata": {},
   "outputs": [],
   "source": [
    "acc_bag_test =model_bag.score(X_tests, y_tests)\n",
    "acc_bag_test"
   ]
  },
  {
   "cell_type": "code",
   "execution_count": null,
   "id": "39150c7c",
   "metadata": {},
   "outputs": [],
   "source": [
    "ytrain_predict_prob_bag=model_bag.predict_proba(X_trains)\n",
    "pd.DataFrame(ytrain_predict_prob_bag).head()"
   ]
  },
  {
   "cell_type": "code",
   "execution_count": null,
   "id": "84dd5120",
   "metadata": {},
   "outputs": [],
   "source": [
    "ytest_predict_prob_bag=model_bag.predict_proba(X_tests)\n",
    "pd.DataFrame(ytest_predict_prob_bag).head()"
   ]
  },
  {
   "cell_type": "markdown",
   "id": "7e3b0633",
   "metadata": {},
   "source": [
    "AdaBoostClassifier\n"
   ]
  },
  {
   "cell_type": "code",
   "execution_count": null,
   "id": "dd217dc9",
   "metadata": {},
   "outputs": [],
   "source": [
    "from sklearn.ensemble import AdaBoostClassifier\n",
    "\n",
    "\n",
    "ADa_model = AdaBoostClassifier(n_estimators=100,random_state=1, learning_rate=1.0, algorithm='SAMME.R')\n",
    "ADa_model.fit(X_trains,y_trains)"
   ]
  },
  {
   "cell_type": "code",
   "execution_count": null,
   "id": "2dda9b56",
   "metadata": {},
   "outputs": [],
   "source": [
    "y_train_predict_Ada = ADa_model.predict(X_trains)\n"
   ]
  },
  {
   "cell_type": "code",
   "execution_count": null,
   "id": "77812ad9",
   "metadata": {},
   "outputs": [],
   "source": [
    "y_test_predict_Ada = ADa_model.predict(X_tests)\n"
   ]
  },
  {
   "cell_type": "code",
   "execution_count": null,
   "id": "3dc192b2",
   "metadata": {},
   "outputs": [],
   "source": [
    "ADa_train =ADa_model.score(X_trains, y_trains)\n",
    "ADa_train"
   ]
  },
  {
   "cell_type": "code",
   "execution_count": null,
   "id": "524ddb9e",
   "metadata": {},
   "outputs": [],
   "source": [
    "ADa_test=ADa_model.score(X_tests, y_tests)\n",
    "ADa_test"
   ]
  },
  {
   "cell_type": "code",
   "execution_count": null,
   "id": "4e3da085",
   "metadata": {},
   "outputs": [],
   "source": [
    "grid_ADa={'n_estimators':[51,101,151],\"learning_rate\":[1.0,0.001,0.01,0.2,0.3], \"algorithm\":[\"SAMME.R\"]}\n"
   ]
  },
  {
   "cell_type": "code",
   "execution_count": null,
   "id": "38b5a779",
   "metadata": {},
   "outputs": [],
   "source": [
    "model_ADa = AdaBoostClassifier()\n"
   ]
  },
  {
   "cell_type": "code",
   "execution_count": null,
   "id": "402614a7",
   "metadata": {},
   "outputs": [],
   "source": [
    "grid_search_ADa = GridSearchCV(estimator = model_ADa, param_grid = grid_ADa, cv = 7,n_jobs=-1,scoring='accuracy')\n"
   ]
  },
  {
   "cell_type": "code",
   "execution_count": null,
   "id": "9071858c",
   "metadata": {},
   "outputs": [],
   "source": [
    "grid_search_ADa.fit(X_trains, y_trains)\n"
   ]
  },
  {
   "cell_type": "code",
   "execution_count": null,
   "id": "8ceae4df",
   "metadata": {},
   "outputs": [],
   "source": [
    "print(grid_search_ADa.best_params_,'\\n')\n",
    "print(grid_search_ADa.best_estimator_)"
   ]
  },
  {
   "cell_type": "code",
   "execution_count": null,
   "id": "9b6533fd",
   "metadata": {},
   "outputs": [],
   "source": [
    "best_model_ADa = grid_search_ADa.best_estimator_\n"
   ]
  },
  {
   "cell_type": "code",
   "execution_count": null,
   "id": "715a5b71",
   "metadata": {},
   "outputs": [],
   "source": [
    "ytrain_predict_ADa = best_model_ADa.predict(X_trains)\n",
    "ytest_predict_ADa = best_model_ADa.predict(X_tests)"
   ]
  },
  {
   "cell_type": "code",
   "execution_count": null,
   "id": "23fb9961",
   "metadata": {},
   "outputs": [],
   "source": [
    "ytrain_predict_prob_ADa=best_model_ADa.predict_proba(X_trains)\n",
    "pd.DataFrame(ytrain_predict_prob_ADa).head()"
   ]
  },
  {
   "cell_type": "code",
   "execution_count": null,
   "id": "dba882b1",
   "metadata": {},
   "outputs": [],
   "source": [
    "ytest_predict_prob_ADa=best_model_ADa.predict_proba(X_tests)\n",
    "pd.DataFrame(ytest_predict_prob_ADa).head()"
   ]
  },
  {
   "cell_type": "code",
   "execution_count": null,
   "id": "07460ad8",
   "metadata": {},
   "outputs": [],
   "source": [
    "# Accuracy - Training Data\n",
    "# Training Accuracy\n",
    "accuracy_ADa_train= best_model_ADa.score(X_trains, y_trains)\n",
    "accuracy_ADa_train"
   ]
  },
  {
   "cell_type": "code",
   "execution_count": null,
   "id": "a67254ee",
   "metadata": {},
   "outputs": [],
   "source": [
    "accuracy_ADa_test= best_model_ADa.score(X_tests, y_tests)\n",
    "accuracy_ADa_test"
   ]
  },
  {
   "cell_type": "code",
   "execution_count": null,
   "id": "9f0722dd",
   "metadata": {},
   "outputs": [],
   "source": [
    "ytrain_predict_prob_ada=best_model_ADa.predict_proba(X_trains)\n",
    "pd.DataFrame(ytrain_predict_prob_ada).head()"
   ]
  },
  {
   "cell_type": "code",
   "execution_count": null,
   "id": "f5eef4a9",
   "metadata": {},
   "outputs": [],
   "source": [
    "ytrain_predict_prob_ada=best_model_ADa.predict_proba(X_tests)\n",
    "pd.DataFrame(ytrain_predict_prob_ada).head()"
   ]
  },
  {
   "cell_type": "markdown",
   "id": "4d9276c3",
   "metadata": {},
   "source": [
    "Gradient Boosting\n"
   ]
  },
  {
   "cell_type": "code",
   "execution_count": null,
   "id": "81e44a44",
   "metadata": {},
   "outputs": [],
   "source": [
    "from sklearn.ensemble import GradientBoostingClassifier\n",
    "gbcl = GradientBoostingClassifier(criterion = 'friedman_mse',loss='exponential',max_features=5,\n",
    "                                min_samples_split=50,n_estimators=101,random_state=1)\n",
    "gbcl = gbcl.fit(X_trains, y_trains)"
   ]
  },
  {
   "cell_type": "code",
   "execution_count": null,
   "id": "8e5c6ecd",
   "metadata": {},
   "outputs": [],
   "source": [
    "y_train_predict_gbcl = gbcl.predict(X_trains)\n"
   ]
  },
  {
   "cell_type": "code",
   "execution_count": null,
   "id": "9f4157ef",
   "metadata": {},
   "outputs": [],
   "source": [
    "y_test_predict_gbcl = gbcl.predict(X_tests)\n"
   ]
  },
  {
   "cell_type": "code",
   "execution_count": null,
   "id": "3663bc39",
   "metadata": {},
   "outputs": [],
   "source": [
    "gbcl.score(X_trains, y_trains)\n"
   ]
  },
  {
   "cell_type": "code",
   "execution_count": null,
   "id": "014f4e09",
   "metadata": {},
   "outputs": [],
   "source": [
    "gbcl.score(X_tests, y_tests)\n"
   ]
  },
  {
   "cell_type": "code",
   "execution_count": null,
   "id": "984c1581",
   "metadata": {},
   "outputs": [],
   "source": [
    "grid_gbcl={\"criterion\" : ['friedman_mse',\"mse\"],\"loss\":['exponential'],\"max_features\":[5,6,7],\n",
    "                                \"min_samples_split\":[50,40,30],\"n_estimators\":[101,51]}\n"
   ]
  },
  {
   "cell_type": "code",
   "execution_count": null,
   "id": "77677d38",
   "metadata": {},
   "outputs": [],
   "source": [
    "model_gbcl = GradientBoostingClassifier()\n"
   ]
  },
  {
   "cell_type": "code",
   "execution_count": null,
   "id": "3fd8a1a5",
   "metadata": {},
   "outputs": [],
   "source": [
    "grid_search_gbcl = GridSearchCV(estimator = model_gbcl, param_grid = grid_gbcl, cv = 7,n_jobs=-1,scoring='accuracy')\n"
   ]
  },
  {
   "cell_type": "code",
   "execution_count": null,
   "id": "c77ce418",
   "metadata": {},
   "outputs": [],
   "source": [
    "grid_search_gbcl.fit(X_trains, y_trains)\n"
   ]
  },
  {
   "cell_type": "code",
   "execution_count": null,
   "id": "b0f5ea77",
   "metadata": {},
   "outputs": [],
   "source": [
    "\n",
    "print(grid_search_gbcl.best_params_,'\\n')\n",
    "print(grid_search_gbcl.best_estimator_)"
   ]
  },
  {
   "cell_type": "code",
   "execution_count": null,
   "id": "0402782e",
   "metadata": {},
   "outputs": [],
   "source": [
    "print(grid_search_gbcl.best_params_,'\\n')\n",
    "print(grid_search_gbcl.best_estimator_)"
   ]
  },
  {
   "cell_type": "code",
   "execution_count": null,
   "id": "de3a0119",
   "metadata": {},
   "outputs": [],
   "source": [
    "best_model_gbcl = grid_search_gbcl.best_estimator_\n"
   ]
  },
  {
   "cell_type": "code",
   "execution_count": null,
   "id": "51a5e7ef",
   "metadata": {},
   "outputs": [],
   "source": [
    "ytrain_predict_gbcl = best_model_gbcl.predict(X_trains)\n",
    "ytest_predict_gbcl = best_model_gbcl.predict(X_tests)\n"
   ]
  },
  {
   "cell_type": "code",
   "execution_count": null,
   "id": "a7cabc69",
   "metadata": {},
   "outputs": [],
   "source": [
    "ytrain_predict_prob_gbcl=best_model_gbcl.predict_proba(X_trains)\n",
    "pd.DataFrame(ytrain_predict_prob_gbcl).head()"
   ]
  },
  {
   "cell_type": "code",
   "execution_count": null,
   "id": "cb5b1236",
   "metadata": {},
   "outputs": [],
   "source": [
    "ytest_predict_prob_gbcl=best_model_gbcl.predict_proba(X_tests)\n",
    "pd.DataFrame(ytest_predict_prob_gbcl).head()"
   ]
  },
  {
   "cell_type": "code",
   "execution_count": null,
   "id": "c13538fb",
   "metadata": {},
   "outputs": [],
   "source": [
    "# Accuracy - Training Data\n",
    "# Training Accuracy\n",
    "accuracy_gbcl_train= best_model_gbcl.score(X_trains, y_trains)\n",
    "accuracy_gbcl_train"
   ]
  },
  {
   "cell_type": "code",
   "execution_count": null,
   "id": "1f9a0525",
   "metadata": {},
   "outputs": [],
   "source": [
    "accuracy_gbcl_test= best_model_gbcl.score(X_tests, y_tests)\n",
    "accuracy_gbcl_test"
   ]
  },
  {
   "cell_type": "markdown",
   "id": "7e0eeb35",
   "metadata": {},
   "source": [
    "1.7 Performance Metrics: Check the performance of Predictions on Train and Test sets using Accuracy, Confusion Matrix, Plot ROC curve and get ROC_AUC score for each model. Final Model: Compare the models and write inference which model is best/optimized."
   ]
  },
  {
   "cell_type": "markdown",
   "id": "3d21e136",
   "metadata": {},
   "source": [
    "Logistic Regression Model¶\n"
   ]
  },
  {
   "cell_type": "code",
   "execution_count": null,
   "id": "36aaf131",
   "metadata": {},
   "outputs": [],
   "source": [
    "from sklearn.metrics import roc_auc_score,roc_curve,classification_report,confusion_matrix,plot_confusion_matrix"
   ]
  },
  {
   "cell_type": "code",
   "execution_count": null,
   "id": "6c1c917e",
   "metadata": {},
   "outputs": [],
   "source": [
    "from sklearn import metrics,model_selection\n",
    "from sklearn.preprocessing import scale"
   ]
  },
  {
   "cell_type": "code",
   "execution_count": null,
   "id": "a61118fe",
   "metadata": {},
   "outputs": [],
   "source": [
    "f,a =  plt.subplots(1,2,sharex=True,sharey=True,squeeze=False)\n",
    "\n",
    "#Plotting confusion matrix for the different models for the Training Data\n",
    "\n",
    "plot_0 = sns.heatmap((metrics.confusion_matrix(y_trains,ytrain_predictlr1)),annot=True,fmt='.5g',cmap='RdYlGn',ax=a[0][0]);\n",
    "a[0][0].set_title('Training Data')\n",
    "\n",
    "plot_1 = sns.heatmap((metrics.confusion_matrix(y_tests,ytest_predictlr1)),annot=True,fmt='.5g',cmap='RdYlGn',ax=a[0][1]);\n",
    "a[0][1].set_title('Test Data');"
   ]
  },
  {
   "cell_type": "code",
   "execution_count": null,
   "id": "8a1ade28",
   "metadata": {},
   "outputs": [],
   "source": [
    "print(classification_report(y_trains, ytrain_predictlr1),'\\n');\n",
    "print(classification_report(y_tests, ytest_predictlr1),'\\n');"
   ]
  },
  {
   "cell_type": "code",
   "execution_count": null,
   "id": "6eb703a5",
   "metadata": {},
   "outputs": [],
   "source": [
    "# AUC and ROC for the training data\n",
    "\n",
    "# calculate AUC\n",
    "train_auc_lr = metrics.roc_auc_score(y_trains,ytrain_predict_prob1[:,1])\n",
    "print('AUC for the Training Data: %.3f' % train_auc_lr)\n",
    "\n",
    "#  calculate roc curve\n",
    "fpr, tpr, thresholds = metrics.roc_curve(y_trains,ytrain_predict_prob1[:,1])\n",
    "plt.plot([0, 1], [0, 1], linestyle='--')\n",
    "# plot the roc curve for the model\n",
    "plt.plot(fpr, tpr, marker='.',label = 'Training Data')\n",
    "\n",
    "\n",
    "# AUC and ROC for the test data\n",
    "\n",
    "# calculate AUC\n",
    "test_auc_lr = metrics.roc_auc_score(y_tests,ytest_predict_prob1[:,1])\n",
    "print('AUC for the Test Data: %.3f' %test_auc_lr )\n",
    "\n",
    "#  calculate roc curve\n",
    "fpr, tpr, thresholds = metrics.roc_curve(y_tests,ytest_predict_prob1[:,1])\n",
    "plt.plot([0, 1], [0, 1], linestyle='--')\n",
    "# plot the roc curve for the model\n",
    "plt.plot(fpr, tpr, marker='.',label='Test Data')\n",
    "# show the plot\n",
    "plt.legend(loc='best')\n",
    "plt.show()"
   ]
  },
  {
   "cell_type": "code",
   "execution_count": null,
   "id": "a78b5239",
   "metadata": {},
   "outputs": [],
   "source": [
    "metrics=classification_report(y_trains, ytrain_predictlr1,output_dict=True)\n",
    "df=pd.DataFrame(metrics).transpose()\n",
    "train_precision_lr=round(df.loc[\"1\"][0],2)\n",
    "train_recall_lr=round(df.loc[\"1\"][1],2)\n",
    "train_f1_lr=round(df.loc[\"1\"][2],2)\n",
    "print ('LR_train_precision ',train_precision_lr)\n",
    "print ('LR_train_recall ',train_recall_lr)\n",
    "print ('LR_train_f1 ',train_f1_lr)"
   ]
  },
  {
   "cell_type": "code",
   "execution_count": null,
   "id": "a5d4d27b",
   "metadata": {},
   "outputs": [],
   "source": [
    "metrics=classification_report(y_tests, ytest_predictlr1,output_dict=True)\n",
    "df=pd.DataFrame(metrics).transpose()\n",
    "test_precision_lr=round(df.loc[\"1\"][0],2)\n",
    "test_recall_lr=round(df.loc[\"1\"][1],2)\n",
    "test_f1_lr=round(df.loc[\"1\"][2],2)\n",
    "print ('LR_test_precision ',test_precision_lr)\n",
    "print ('LR_test_recall ',test_recall_lr)\n",
    "print ('LR_test_f1 ',test_f1_lr)"
   ]
  },
  {
   "cell_type": "markdown",
   "id": "a3e44c6f",
   "metadata": {},
   "source": [
    "LinearDiscriminantAnalysis\n"
   ]
  },
  {
   "cell_type": "code",
   "execution_count": null,
   "id": "bc22b5b3",
   "metadata": {},
   "outputs": [],
   "source": [
    "from sklearn.metrics import roc_auc_score,roc_curve,classification_report,confusion_matrix,plot_confusion_matrix\n",
    "from sklearn import metrics,model_selection\n",
    "from sklearn.preprocessing import scale"
   ]
  },
  {
   "cell_type": "code",
   "execution_count": null,
   "id": "f626f63a",
   "metadata": {},
   "outputs": [],
   "source": [
    "metrics=classification_report(y_trains,pred_class_train_lda,output_dict=True)\n",
    "df=pd.DataFrame(metrics).transpose()\n",
    "train_precision_lda=round(df.loc[\"1\"][0],2)\n",
    "train_recall_lda=round(df.loc[\"1\"][1],2)\n",
    "train_f1_lda=round(df.loc[\"1\"][2],2)\n",
    "print ('LDA_train_precision ',train_precision_lda)\n",
    "print ('LDA_train_recall ',train_recall_lda)\n",
    "print ('LDA_train_f1 ',train_f1_lda)"
   ]
  },
  {
   "cell_type": "code",
   "execution_count": null,
   "id": "2d7dde07",
   "metadata": {},
   "outputs": [],
   "source": [
    "metrics=classification_report(y_tests,pred_class_test_lda,output_dict=True)\n",
    "df=pd.DataFrame(metrics).transpose()\n",
    "test_precision_lda=round(df.loc[\"1\"][0],2)\n",
    "test_recall_lda=round(df.loc[\"1\"][1],2)\n",
    "test_f1_lda=round(df.loc[\"1\"][2],2)\n",
    "print ('LDA_test_precision ',test_precision_lda)\n",
    "print ('LDA_test_recall ',test_recall_lda)\n",
    "print ('LDA_test_f1 ',test_f1_lda)"
   ]
  },
  {
   "cell_type": "code",
   "execution_count": null,
   "id": "6434c550",
   "metadata": {},
   "outputs": [],
   "source": [
    "confusion_matrix(y_trains,pred_class_train_lda)\n",
    "sns.heatmap(confusion_matrix(y_trains,pred_class_train_lda),annot=True, fmt='d',cbar=False, cmap='cividis')\n",
    "plt.xlabel('Predicted Label')\n",
    "plt.ylabel('Actual Label')\n",
    "plt.title('Confusion Matrix')\n",
    "plt.show()"
   ]
  },
  {
   "cell_type": "code",
   "execution_count": null,
   "id": "fb049fef",
   "metadata": {},
   "outputs": [],
   "source": [
    "confusion_matrix(y_tests,pred_class_test_lda)\n",
    "sns.heatmap(confusion_matrix(y_tests,pred_class_test_lda),annot=True, fmt='d',cbar=False, cmap='cividis')\n",
    "plt.xlabel('Predicted Label')\n",
    "plt.ylabel('Actual Label')\n",
    "plt.title('Confusion Matrix')\n",
    "plt.show()"
   ]
  },
  {
   "cell_type": "code",
   "execution_count": null,
   "id": "060b6af8",
   "metadata": {},
   "outputs": [],
   "source": [
    "print(classification_report(y_trains, pred_class_train_lda),'\\n');\n",
    "print(classification_report(y_tests,pred_class_test_lda),'\\n');"
   ]
  },
  {
   "cell_type": "markdown",
   "id": "af404042",
   "metadata": {},
   "source": [
    "KNN Model\n"
   ]
  },
  {
   "cell_type": "code",
   "execution_count": null,
   "id": "5a83388d",
   "metadata": {},
   "outputs": [],
   "source": [
    "metrics=classification_report(y_trains,y_train_predict_knn,output_dict=True)\n",
    "df=pd.DataFrame(metrics).transpose()\n",
    "train_precision_knn=round(df.loc[\"1\"][0],2)\n",
    "train_recall_knn=round(df.loc[\"1\"][1],2)\n",
    "train_f1_knn=round(df.loc[\"1\"][2],2)\n",
    "print ('knn_train_precision ',train_precision_knn)\n",
    "print ('knn_train_recall ',train_recall_knn)\n",
    "print ('knn_train_f1 ',train_f1_knn)"
   ]
  },
  {
   "cell_type": "code",
   "execution_count": null,
   "id": "5259b4e7",
   "metadata": {},
   "outputs": [],
   "source": [
    "metrics=classification_report(y_tests,y_test_predict_knn,output_dict=True)\n",
    "df=pd.DataFrame(metrics).transpose()\n",
    "test_precision_knn=round(df.loc[\"1\"][0],2)\n",
    "test_recall_knn=round(df.loc[\"1\"][1],2)\n",
    "test_f1_knn=round(df.loc[\"1\"][2],2)\n",
    "print ('knn_test_precision ',test_precision_knn)\n",
    "print ('knn_test_recall ',test_recall_knn)\n",
    "print ('knn_test_f1 ',test_f1_knn)"
   ]
  },
  {
   "cell_type": "code",
   "execution_count": null,
   "id": "fb428fa1",
   "metadata": {},
   "outputs": [],
   "source": [
    "print(classification_report(y_trains,y_train_predict_knn),'\\n');\n",
    "print(classification_report(y_tests,y_test_predict_knn),'\\n');"
   ]
  },
  {
   "cell_type": "markdown",
   "id": "8f045d20",
   "metadata": {},
   "source": [
    "naive model\n"
   ]
  },
  {
   "cell_type": "code",
   "execution_count": null,
   "id": "44e9f906",
   "metadata": {},
   "outputs": [],
   "source": [
    "metrics=classification_report(y_trains,y_train_predict_nb,output_dict=True)\n",
    "df=pd.DataFrame(metrics).transpose()\n",
    "train_precision_nb=round(df.loc[\"1\"][0],2)\n",
    "train_recall_nb=round(df.loc[\"1\"][1],2)\n",
    "train_f1_nb=round(df.loc[\"1\"][2],2)\n",
    "print ('nb_train_precision ',train_precision_nb)\n",
    "print ('nb_train_recall ',train_recall_nb)\n",
    "print ('nb_train_f1 ',train_f1_nb)"
   ]
  },
  {
   "cell_type": "code",
   "execution_count": null,
   "id": "44f5feba",
   "metadata": {},
   "outputs": [],
   "source": [
    "metrics=classification_report(y_tests,y_test_predict_nb,output_dict=True)\n",
    "df=pd.DataFrame(metrics).transpose()\n",
    "test_precision_nb=round(df.loc[\"1\"][0],2)\n",
    "test_recall_nb=round(df.loc[\"1\"][1],2)\n",
    "test_f1_nb=round(df.loc[\"1\"][2],2)\n",
    "print ('nb_test_precision ',test_precision_nb)\n",
    "print ('nb_test_recall ',test_recall_nb)\n",
    "print ('nb_test_f1 ',test_f1_nb)"
   ]
  },
  {
   "cell_type": "code",
   "execution_count": null,
   "id": "fad273a1",
   "metadata": {},
   "outputs": [],
   "source": [
    "print(classification_report(y_trains,y_train_predict_nb),'\\n');\n",
    "print(classification_report(y_tests,y_test_predict_nb),'\\n');"
   ]
  },
  {
   "cell_type": "markdown",
   "id": "6fe4d1bc",
   "metadata": {},
   "source": [
    "Bagging with randomforest\n"
   ]
  },
  {
   "cell_type": "code",
   "execution_count": null,
   "id": "4b851caa",
   "metadata": {},
   "outputs": [],
   "source": [
    "metrics=classification_report(y_trains,y_train_predict_bag,output_dict=True)\n",
    "df=pd.DataFrame(metrics).transpose()\n",
    "train_precision_bag=round(df.loc[\"1\"][0],2)\n",
    "train_recall_bag=round(df.loc[\"1\"][1],2)\n",
    "train_f1_bag=round(df.loc[\"1\"][2],2)\n",
    "print ('bag_train_precision ',train_precision_bag)\n",
    "print ('bag_train_recall ',train_recall_bag)\n",
    "print ('bag_train_f1 ',train_f1_bag)"
   ]
  },
  {
   "cell_type": "code",
   "execution_count": null,
   "id": "28604071",
   "metadata": {},
   "outputs": [],
   "source": [
    "metrics=classification_report(y_tests,y_test_predict_bag,output_dict=True)\n",
    "df=pd.DataFrame(metrics).transpose()\n",
    "test_precision_bag=round(df.loc[\"1\"][0],2)\n",
    "test_recall_bag=round(df.loc[\"1\"][1],2)\n",
    "test_f1_bag=round(df.loc[\"1\"][2],2)\n",
    "print ('bag_test_precision ',test_precision_bag)\n",
    "print ('bag_test_recall ',test_recall_bag)\n",
    "print ('bag_test_f1 ',test_f1_bag)"
   ]
  },
  {
   "cell_type": "code",
   "execution_count": null,
   "id": "d26d3ca1",
   "metadata": {},
   "outputs": [],
   "source": [
    "print(classification_report(y_trains,y_train_predict_bag),'\\n');\n",
    "print(classification_report(y_tests,y_test_predict_bag),'\\n');"
   ]
  },
  {
   "cell_type": "markdown",
   "id": "a8376512",
   "metadata": {},
   "source": [
    "AdaBoostClassifier\n"
   ]
  },
  {
   "cell_type": "code",
   "execution_count": null,
   "id": "4a12ca36",
   "metadata": {},
   "outputs": [],
   "source": [
    "print(classification_report(y_trains, ytrain_predict_ADa),'\\n');\n",
    "print(classification_report(y_tests, ytest_predict_ADa),'\\n');"
   ]
  },
  {
   "cell_type": "code",
   "execution_count": null,
   "id": "3e7f9853",
   "metadata": {},
   "outputs": [],
   "source": [
    "metrics=classification_report(y_trains, ytrain_predict_ADa,output_dict=True)\n",
    "df=pd.DataFrame(metrics).transpose()\n",
    "train_precision_ADa=round(df.loc[\"1\"][0],2)\n",
    "train_recall_ADa=round(df.loc[\"1\"][1],2)\n",
    "train_f1_ADa=round(df.loc[\"1\"][2],2)\n",
    "print ('ADa_train_precision ',train_precision_ADa)\n",
    "print ('ADa_train_recall ',train_recall_ADa)\n",
    "print ('ADa_train_f1 ',train_f1_ADa)"
   ]
  },
  {
   "cell_type": "code",
   "execution_count": null,
   "id": "db12b4a9",
   "metadata": {},
   "outputs": [],
   "source": [
    "metrics=classification_report(y_tests, ytest_predict_ADa,output_dict=True)\n",
    "df=pd.DataFrame(metrics).transpose()\n",
    "test_precision_ADa=round(df.loc[\"1\"][0],2)\n",
    "test_recall_ADa=round(df.loc[\"1\"][1],2)\n",
    "test_f1_ADa=round(df.loc[\"1\"][2],2)\n",
    "print ('ADa_test_precision ',test_precision_ADa)\n",
    "print ('ADa_test_recall ',test_recall_ADa)\n",
    "print ('ADatest_f1 ',test_f1_ADa)"
   ]
  },
  {
   "cell_type": "markdown",
   "id": "ff626600",
   "metadata": {},
   "source": [
    "Gradient Boosting\n"
   ]
  },
  {
   "cell_type": "code",
   "execution_count": null,
   "id": "05b527e4",
   "metadata": {},
   "outputs": [],
   "source": [
    "print(classification_report(y_trains, ytrain_predict_gbcl),'\\n');\n",
    "print(classification_report(y_tests, ytest_predict_gbcl),'\\n');"
   ]
  },
  {
   "cell_type": "code",
   "execution_count": null,
   "id": "a4479edc",
   "metadata": {},
   "outputs": [],
   "source": [
    "metrics=classification_report(y_trains, ytrain_predict_gbcl,output_dict=True)\n",
    "df=pd.DataFrame(metrics).transpose()\n",
    "train_precision_gbcl=round(df.loc[\"1\"][0],2)\n",
    "train_recall_gbcl=round(df.loc[\"1\"][1],2)\n",
    "train_f1_gbcl=round(df.loc[\"1\"][2],2)\n",
    "print ('gbcl_train_precision ',train_precision_gbcl)\n",
    "print ('gbcl_train_recall ',train_recall_gbcl)\n",
    "print ('gbcl_train_f1 ',train_f1_gbcl)"
   ]
  },
  {
   "cell_type": "code",
   "execution_count": null,
   "id": "089a7467",
   "metadata": {},
   "outputs": [],
   "source": [
    "metrics=classification_report(y_tests, ytest_predict_gbcl,output_dict=True)\n",
    "df=pd.DataFrame(metrics).transpose()\n",
    "test_precision_gbcl=round(df.loc[\"1\"][0],2)\n",
    "test_recall_gbcl=round(df.loc[\"1\"][1],2)\n",
    "test_f1_gbcl=round(df.loc[\"1\"][2],2)\n",
    "print ('gbcl_test_precision ',test_precision_gbcl)\n",
    "print ('gbcl_test_recall ',test_recall_gbcl)\n",
    "print ('gbcl_test_f1 ',test_f1_gbcl)"
   ]
  },
  {
   "cell_type": "code",
   "execution_count": null,
   "id": "c83187b3",
   "metadata": {},
   "outputs": [],
   "source": [
    "# Sample voter information\n",
    "test_sample = [(4,6,10,8,20,11,7,21)]\n",
    "#Create a DataFrame object\n",
    "test_df = pd.DataFrame(test_sample, columns = ['age', 'economic.cond.national', 'economic.cond.household',\n",
    "       'Blair', 'Hague', 'Europe', 'political_knowledge', 'gender'])"
   ]
  },
  {
   "cell_type": "code",
   "execution_count": null,
   "id": "69790a4f",
   "metadata": {},
   "outputs": [],
   "source": [
    "#Labour = 1 , conservative = 0\n",
    "\n",
    "test_predict_lr =  best_model.predict(test_df)\n",
    "test_predict_lda = best_model_lda.predict(test_df)\n",
    "test_predict_knn = KNN_model.predict(test_df) \n",
    "test_predict_nb = NB_model.predict(test_df)\n",
    "test_predict_bag = model_bag.predict(test_df)\n",
    "test_predict_ada = ADa_model.predict(test_df)\n",
    "test_predict_gb = best_model_ADa.predict(test_df)"
   ]
  },
  {
   "cell_type": "code",
   "execution_count": null,
   "id": "adde3860",
   "metadata": {},
   "outputs": [],
   "source": [
    "outcome_lr = pd.DataFrame(test_predict_lr)\n",
    "outcome_lr[0]=np.where(outcome_lr[0] == 1,\" labour party\",\"conservative party\")\n",
    "outcome_lda = pd.DataFrame(test_predict_lda)\n",
    "outcome_lda[0]=np.where(outcome_lda[0] == 1,\" labour party\",\"conservative party\")\n",
    "outcome_knn = pd.DataFrame(test_predict_knn)\n",
    "outcome_knn[0]=np.where(outcome_knn[0] == 1,\"labour party\",\"conservative party\")\n",
    "outcome_nb = pd.DataFrame(test_predict_nb)\n",
    "outcome_nb[0]=np.where(outcome_nb[0] == 1,\"labour party\",\"conservative party\")\n",
    "outcome_bag = pd.DataFrame(test_predict_bag)\n",
    "outcome_bag[0]=np.where(outcome_bag[0] == 1,\"labour party\",\"conservative party\")\n",
    "outcome_ada = pd.DataFrame(test_predict_ada)\n",
    "outcome_ada[0]=np.where(outcome_ada[0] == 1,\"labour party\",\"conservative party\")\n",
    "outcome_gb = pd.DataFrame(test_predict_gb)\n",
    "outcome_gb[0]=np.where(outcome_gb[0] == 1,\"labour party\",\"conservative party\")"
   ]
  },
  {
   "cell_type": "code",
   "execution_count": null,
   "id": "8623e0a5",
   "metadata": {},
   "outputs": [],
   "source": [
    "outcome = [outcome_lr,outcome_lda,outcome_knn,outcome_nb,outcome_bag,\n",
    "               outcome_ada,outcome_gb]\n",
    "outcome1 = pd.concat(outcome)\n",
    "outcome1[\" Prediction\"] = outcome1.copy()\n",
    "outcome1.drop(0,axis=1,inplace=True)\n",
    "Models = ['Logistic Regression', 'Linear Discriminant Analaysis ', 'K-Nearest Neighbour',\n",
    "              'Naive Bayes','Bagging(with Random Forest)', 'Adaptive Boosting ',\n",
    "              'Gradient Boosting']\n",
    "outcome1[\"Model\"] = Models\n",
    "outcome1.set_index(\"Model\", inplace = True)"
   ]
  },
  {
   "cell_type": "code",
   "execution_count": null,
   "id": "f31ad20b",
   "metadata": {},
   "outputs": [],
   "source": [
    "#Printing the results\n",
    "print(\"For the sample voter details provided, the following conclusions are made by the models:\\n\",outcome1)"
   ]
  },
  {
   "cell_type": "code",
   "execution_count": null,
   "id": "fdf0c93d",
   "metadata": {},
   "outputs": [],
   "source": [
    "outcome1\n"
   ]
  },
  {
   "cell_type": "markdown",
   "id": "1c0e9ebc",
   "metadata": {},
   "source": [
    "1.8 Based on these predictions, what are the insights?\n"
   ]
  },
  {
   "cell_type": "code",
   "execution_count": null,
   "id": "251b81e5",
   "metadata": {},
   "outputs": [],
   "source": [
    "#Explained in the report"
   ]
  },
  {
   "cell_type": "markdown",
   "id": "9cecae46",
   "metadata": {},
   "source": [
    "# Problem 2:\n",
    "In this particular project, we are going to work on the inaugural corpora from the nltk in Python. We will be looking at the following speeches of the Presidents of the United States of America:\n",
    "President Franklin D. Roosevelt in 1941\n",
    "President John F. Kennedy in 1961\n",
    "President Richard Nixon in 1973"
   ]
  },
  {
   "cell_type": "code",
   "execution_count": null,
   "id": "650f02bb",
   "metadata": {},
   "outputs": [],
   "source": [
    "import nltk\n",
    "nltk.download('inaugural')\n",
    "from nltk.corpus import inaugural\n",
    "inaugural.fileids()"
   ]
  },
  {
   "cell_type": "markdown",
   "id": "6bd8fa26",
   "metadata": {},
   "source": [
    "2.1 Find the number of characters, words, and sentences for the mentioned documents."
   ]
  },
  {
   "cell_type": "code",
   "execution_count": null,
   "id": "0e151775",
   "metadata": {},
   "outputs": [],
   "source": [
    "Roosevelt_raw = inaugural.raw('1941-Roosevelt.txt')\n",
    "Kennedy_raw = inaugural.raw('1961-Kennedy.txt')\n",
    "Nixon_raw =inaugural.raw('1973-Nixon.txt')"
   ]
  },
  {
   "cell_type": "code",
   "execution_count": null,
   "id": "c54c7765",
   "metadata": {},
   "outputs": [],
   "source": [
    "print(\"The number of characters in Roosevelt speech are:\",len(Roosevelt_raw))\n",
    "print(\"The number of characters in Kennedy speech are:\",len(Kennedy_raw))\n",
    "print(\"The number of characters in Nixon speech are:\",len(Nixon_raw))"
   ]
  },
  {
   "cell_type": "code",
   "execution_count": null,
   "id": "25622274",
   "metadata": {},
   "outputs": [],
   "source": [
    "Roosevelt_words = inaugural.words('1941-Roosevelt.txt')\n",
    "Kennedy_words = inaugural.words('1961-Kennedy.txt')\n",
    "Nixon_words =inaugural.words('1973-Nixon.txt')"
   ]
  },
  {
   "cell_type": "code",
   "execution_count": null,
   "id": "1b6f8354",
   "metadata": {},
   "outputs": [],
   "source": [
    "print(\"The number of Words in Roosevelt speech are:\",len(inaugural.words('1941-Roosevelt.txt')))\n",
    "print(\"The number of Words in Kennedy speech are:\",len(inaugural.words('1961-Kennedy.txt')))\n",
    "print(\"The number of Words in Nixon speech are:\",len(inaugural.words('1973-Nixon.txt')))"
   ]
  },
  {
   "cell_type": "code",
   "execution_count": null,
   "id": "201274b6",
   "metadata": {},
   "outputs": [],
   "source": [
    "print(\"Most common words in Roosevelt speech:\",nltk.FreqDist(Roosevelt_words).most_common(10))\n"
   ]
  },
  {
   "cell_type": "code",
   "execution_count": null,
   "id": "6aac93e3",
   "metadata": {},
   "outputs": [],
   "source": [
    "print(\"Most common words in Kennedy speech:\",nltk.FreqDist(Kennedy_words).most_common(10))\n"
   ]
  },
  {
   "cell_type": "code",
   "execution_count": null,
   "id": "9a6e634c",
   "metadata": {},
   "outputs": [],
   "source": [
    "print(\"Most common words in Nixon speech:\",nltk.FreqDist(Nixon_words).most_common(10))\n"
   ]
  },
  {
   "cell_type": "code",
   "execution_count": null,
   "id": "4fc250f5",
   "metadata": {},
   "outputs": [],
   "source": [
    "import nltk\n",
    "nltk.download('punkt')"
   ]
  },
  {
   "cell_type": "code",
   "execution_count": null,
   "id": "37574136",
   "metadata": {},
   "outputs": [],
   "source": [
    "print(\"The number of sentences in Roosevelt speech are:\",len(inaugural.sents('1941-Roosevelt.txt')))\n",
    "print(\"The number of sentences in Kennedy speech are:\",len(inaugural.sents('1961-Kennedy.txt')))\n",
    "print(\"The number of sentences in Nixon speech are:\",len(inaugural.sents('1973-Nixon.txt')))"
   ]
  },
  {
   "cell_type": "markdown",
   "id": "be3284d8",
   "metadata": {},
   "source": [
    "2.2 Remove all the stopwords from all three speeches\n"
   ]
  },
  {
   "cell_type": "code",
   "execution_count": null,
   "id": "0953ae3c",
   "metadata": {},
   "outputs": [],
   "source": [
    "import random\n",
    "import string\n",
    "from nltk.corpus import stopwords\n",
    "nltk.download('stopwords')\n",
    "from nltk.stem.porter import PorterStemmer\n",
    "st = PorterStemmer()\n",
    "\n",
    "import json\n",
    "import re\n",
    "import string\n",
    "import pandas as pd"
   ]
  },
  {
   "cell_type": "code",
   "execution_count": null,
   "id": "f2f8b225",
   "metadata": {},
   "outputs": [],
   "source": [
    "# Roosevelt speech\n",
    "stopwords = nltk.corpus.stopwords.words('english') +list(string.punctuation)\n",
    "\n",
    "stopwords.extend([\"--\"]) \n",
    "all_words = (w.lower() for w in inaugural.words('1941-Roosevelt.txt'))\n",
    "all_words_clean = [word for word in all_words if word not in stopwords]\n",
    "\n",
    "clean_stem = [st.stem(word) for word in all_words_clean]\n",
    "\n",
    "Roosevelt_words_freq = nltk.FreqDist(clean_stem)\n",
    "\n",
    "word_features1 = [item[0] for item in Roosevelt_words_freq.most_common(50)]"
   ]
  },
  {
   "cell_type": "code",
   "execution_count": null,
   "id": "ca3076aa",
   "metadata": {},
   "outputs": [],
   "source": [
    "print(\"Most common words in Roosevelt speech after removing stopwords\")\n",
    "print(word_features1)"
   ]
  },
  {
   "cell_type": "code",
   "execution_count": null,
   "id": "7a6006e6",
   "metadata": {},
   "outputs": [],
   "source": [
    "stopwords = nltk.corpus.stopwords.words('english') +list(string.punctuation)\n",
    "stopwords.extend([\"--\"]) \n",
    "\n",
    "all_words = (w.lower() for w in inaugural.words('1961-Kennedy.txt'))\n",
    "all_words_clean = [word for word in all_words if word not in stopwords]\n",
    "clean_stem = [st.stem(word) for word in all_words_clean]\n",
    "\n",
    "\n",
    "kennedy_words_freq = nltk.FreqDist(clean_stem)\n",
    "\n",
    "word_features2 = [item[0] for item in kennedy_words_freq.most_common(50)]"
   ]
  },
  {
   "cell_type": "code",
   "execution_count": null,
   "id": "a60076be",
   "metadata": {},
   "outputs": [],
   "source": [
    "word_features2\n"
   ]
  },
  {
   "cell_type": "code",
   "execution_count": null,
   "id": "5a037741",
   "metadata": {},
   "outputs": [],
   "source": [
    "print(\"Most common words in Kennedy speech after removing stopwords\")\n",
    "print(word_features2)"
   ]
  },
  {
   "cell_type": "code",
   "execution_count": null,
   "id": "fca39eba",
   "metadata": {},
   "outputs": [],
   "source": [
    "stopwords = nltk.corpus.stopwords.words('english') +list(string.punctuation)\n",
    "stopwords.extend([\"--\"]) \n",
    "\n",
    "all_words = (w.lower() for w in inaugural.words('1973-Nixon.txt'))\n",
    "all_words_clean = [word for word in all_words if word not in stopwords]\n",
    "clean_stem = [st.stem(word) for word in all_words_clean]\n",
    "\n",
    "\n",
    "Nixon_words_freq = nltk.FreqDist(clean_stem)\n",
    "\n",
    "word_features3 = [item[0] for item in Nixon_words_freq.most_common(50)]"
   ]
  },
  {
   "cell_type": "code",
   "execution_count": null,
   "id": "66ff1106",
   "metadata": {},
   "outputs": [],
   "source": [
    "print(\"Most common words in Nixon speech after removing stopwords\")\n",
    "print(word_features3)"
   ]
  },
  {
   "cell_type": "markdown",
   "id": "3b1c581f",
   "metadata": {},
   "source": [
    "2.3 Which word occurs the most number of times in his inaugural address for each president? Mention the top three words. (after removing the stopwords)"
   ]
  },
  {
   "cell_type": "code",
   "execution_count": null,
   "id": "0a8f160e",
   "metadata": {},
   "outputs": [],
   "source": [
    "print(\"Top three words in Roosevelt's speech(after removing the stopwords):\",nltk.FreqDist(Roosevelt_words_freq).most_common(3))\n"
   ]
  },
  {
   "cell_type": "code",
   "execution_count": null,
   "id": "6b12063f",
   "metadata": {},
   "outputs": [],
   "source": [
    "print(\"Top three words in Kennedy's speech(after removing the stopwords):\",nltk.FreqDist(kennedy_words_freq).most_common(3))\n"
   ]
  },
  {
   "cell_type": "code",
   "execution_count": null,
   "id": "64813af6",
   "metadata": {},
   "outputs": [],
   "source": [
    "print(\"Top three words in Nixon's speech(after removing the stopwords):\",nltk.FreqDist(Nixon_words_freq).most_common(3))\n"
   ]
  },
  {
   "cell_type": "markdown",
   "id": "ef87b45a",
   "metadata": {},
   "source": [
    "2.4 Plot the word cloud of each of the speeches of the variable. (after removing the stopwords)"
   ]
  },
  {
   "cell_type": "code",
   "execution_count": null,
   "id": "ea9e3117",
   "metadata": {},
   "outputs": [],
   "source": [
    "Roosevelt_df = pd.DataFrame({\"Roosevelt\":[inaugural.raw('1941-Roosevelt.txt')]})\n",
    "Kennedy_df =  pd.DataFrame({\"Kennedy\":[inaugural.raw('1961-Kennedy.txt')]})\n",
    "Nixon_df =  pd.DataFrame({\"Nixon\":[inaugural.raw('1973-Nixon.txt')]})\n",
    "import matplotlib.pyplot as plt"
   ]
  },
  {
   "cell_type": "code",
   "execution_count": null,
   "id": "67761ce6",
   "metadata": {},
   "outputs": [],
   "source": [
    "from nltk.corpus import stopwords"
   ]
  },
  {
   "cell_type": "markdown",
   "id": "02656528",
   "metadata": {},
   "source": [
    "Roosevelt speech"
   ]
  },
  {
   "cell_type": "code",
   "execution_count": null,
   "id": "9bdadc60",
   "metadata": {},
   "outputs": [],
   "source": [
    "stop_words = stopwords.words('english')\n",
    "stop_words.extend([\"--\"])"
   ]
  },
  {
   "cell_type": "code",
   "execution_count": null,
   "id": "c8acbf50",
   "metadata": {},
   "outputs": [],
   "source": [
    "\n",
    "corpus = Roosevelt_df['Roosevelt'].apply(lambda x: ' '.join([z for z in x.split() if z not in stop_words])) \n",
    "corpus"
   ]
  },
  {
   "cell_type": "code",
   "execution_count": null,
   "id": "dc8c7206",
   "metadata": {},
   "outputs": [],
   "source": [
    "wc_a = ' '.join(corpus)\n"
   ]
  },
  {
   "cell_type": "code",
   "execution_count": null,
   "id": "27cd0eae",
   "metadata": {},
   "outputs": [],
   "source": [
    "conda install -c conda-forge word cloud"
   ]
  },
  {
   "cell_type": "code",
   "execution_count": null,
   "id": "70a96aef",
   "metadata": {},
   "outputs": [],
   "source": [
    "from wordcloud import WordCloud"
   ]
  },
  {
   "cell_type": "code",
   "execution_count": null,
   "id": "2ebafbff",
   "metadata": {},
   "outputs": [],
   "source": [
    "# Word Cloud \n",
    "wordcloud = WordCloud(width = 3000, height = 3000, \n",
    "                background_color ='skyblue', \n",
    "                min_font_size = 10, random_state=100).generate(wc_a) \n",
    "  \n",
    "# plot the WordCloud image                        \n",
    "plt.figure(figsize = (8, 8), facecolor = None) \n",
    "plt.imshow(wordcloud) \n",
    "plt.axis(\"off\")\n",
    "plt.xlabel('Word Cloud')\n",
    "plt.tight_layout(pad = 0) \n",
    "\n",
    "print(\"Word Cloud  (after cleaning)!!\")\n",
    "plt.show()"
   ]
  },
  {
   "cell_type": "markdown",
   "id": "db9ca0d3",
   "metadata": {},
   "source": [
    "Kennedy speech\n"
   ]
  },
  {
   "cell_type": "code",
   "execution_count": null,
   "id": "380ceb94",
   "metadata": {},
   "outputs": [],
   "source": [
    "corpus2 = Kennedy_df['Kennedy'].apply(lambda x: ' '.join([z for z in x.split() if z not in stop_words])) \n",
    "corpus2"
   ]
  },
  {
   "cell_type": "code",
   "execution_count": null,
   "id": "bad35c9f",
   "metadata": {},
   "outputs": [],
   "source": [
    "wc_a1 = ' '.join(corpus2)\n"
   ]
  },
  {
   "cell_type": "code",
   "execution_count": null,
   "id": "e19b1af7",
   "metadata": {},
   "outputs": [],
   "source": [
    "# Word Cloud \n",
    "from wordcloud import WordCloud\n",
    "wordcloud = WordCloud(width = 3000, height = 3000, \n",
    "                background_color ='black', \n",
    "                min_font_size = 10, random_state=100).generate(wc_a1) \n",
    "  \n",
    "# plot the WordCloud image                        \n",
    "plt.figure(figsize = (8, 8), facecolor = None) \n",
    "plt.imshow(wordcloud) \n",
    "plt.axis(\"off\")\n",
    "plt.xlabel('Word Cloud')\n",
    "plt.tight_layout(pad = 0) \n",
    "\n",
    "print(\"Word Cloud  (after cleaning)!!\")\n",
    "plt.show()"
   ]
  },
  {
   "cell_type": "code",
   "execution_count": null,
   "id": "d84a3b36",
   "metadata": {},
   "outputs": [],
   "source": [
    "# Nixon speech\n"
   ]
  },
  {
   "cell_type": "code",
   "execution_count": null,
   "id": "e8c59a4b",
   "metadata": {},
   "outputs": [],
   "source": [
    "corpus3 = Nixon_df['Nixon'].apply(lambda x: ' '.join([z for z in x.split() if z not in stop_words])) \n",
    "corpus3"
   ]
  },
  {
   "cell_type": "code",
   "execution_count": null,
   "id": "d9e17704",
   "metadata": {},
   "outputs": [],
   "source": [
    "# Word Cloud \n",
    "from wordcloud import WordCloud\n",
    "wordcloud = WordCloud(width = 3000, height = 3000, \n",
    "                background_color ='pink', \n",
    "                min_font_size = 10, random_state=100).generate(wc_a3) \n",
    "  \n",
    "# plot the WordCloud image                        \n",
    "plt.figure(figsize = (8, 8), facecolor = None) \n",
    "plt.imshow(wordcloud) \n",
    "plt.axis(\"off\")\n",
    "plt.xlabel('Word Cloud')\n",
    "plt.tight_layout(pad = 0) \n",
    "\n",
    "print(\"Word Cloud  (after cleaning)!!\")\n",
    "plt.show()"
   ]
  }
 ],
 "metadata": {
  "kernelspec": {
   "display_name": "Python 3",
   "language": "python",
   "name": "python3"
  },
  "language_info": {
   "codemirror_mode": {
    "name": "ipython",
    "version": 3
   },
   "file_extension": ".py",
   "mimetype": "text/x-python",
   "name": "python",
   "nbconvert_exporter": "python",
   "pygments_lexer": "ipython3",
   "version": "3.8.8"
  }
 },
 "nbformat": 4,
 "nbformat_minor": 5
}
