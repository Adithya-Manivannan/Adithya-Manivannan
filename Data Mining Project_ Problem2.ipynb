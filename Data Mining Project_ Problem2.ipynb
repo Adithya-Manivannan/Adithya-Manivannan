{
 "cells": [
  {
   "cell_type": "markdown",
   "id": "1f0b4367",
   "metadata": {},
   "source": [
    "Problem 2: CART-RF-ANN\n",
    "\n",
    "\n",
    "An Insurance firm providing tour insurance is facing higher claim frequency. The management decides to collect data from the past few years. You are assigned the task to make a model which predicts the claim status and provide recommendations to management. Use CART, RF & ANN and compare the models' performances in train and test sets."
   ]
  },
  {
   "cell_type": "code",
   "execution_count": 459,
   "id": "ab18cd2a",
   "metadata": {},
   "outputs": [],
   "source": [
    "import numpy as np\n",
    "import pandas as pd\n",
    "import seaborn as sns\n",
    "import matplotlib.pyplot as plt\n",
    "%matplotlib inline\n",
    "from warnings import filterwarnings\n",
    "filterwarnings('ignore')"
   ]
  },
  {
   "cell_type": "markdown",
   "id": "0729ff9e",
   "metadata": {},
   "source": [
    "Data Dictionary\n",
    "\n",
    "Target: Claim Status (Claimed)\n",
    "\n",
    "Code of tour firm (Agency_Code)\n",
    "\n",
    "Type of tour insurance firms (Type)\n",
    "\n",
    "Distribution channel of tour insurance agencies (Channel)\n",
    "\n",
    "Name of the tour insurance products (Product)\n",
    "\n",
    "Duration of the tour (Duration in days)\n",
    "\n",
    "Destination of the tour (Destination)\n",
    "\n",
    "Amount worth of sales per customer in procuring tour insurance policies in rupees (in 100’s)\n",
    "\n",
    "The commission received for tour insurance firm (Commission is in percentage of sales) \n",
    "\n",
    "Age of insured (Age)\n"
   ]
  },
  {
   "cell_type": "markdown",
   "id": "7565bff5",
   "metadata": {},
   "source": [
    "2.1 Read the data, do the necessary initial steps, and exploratory data analysis (Univariate, Bi-variate, and multivariate analysis).\n"
   ]
  },
  {
   "cell_type": "code",
   "execution_count": 460,
   "id": "dc648924",
   "metadata": {},
   "outputs": [],
   "source": [
    "df=pd.read_csv(\"insurance_part2_data (1).csv\")"
   ]
  },
  {
   "cell_type": "code",
   "execution_count": 461,
   "id": "8370aaa8",
   "metadata": {},
   "outputs": [
    {
     "data": {
      "text/html": [
       "<div>\n",
       "<style scoped>\n",
       "    .dataframe tbody tr th:only-of-type {\n",
       "        vertical-align: middle;\n",
       "    }\n",
       "\n",
       "    .dataframe tbody tr th {\n",
       "        vertical-align: top;\n",
       "    }\n",
       "\n",
       "    .dataframe thead th {\n",
       "        text-align: right;\n",
       "    }\n",
       "</style>\n",
       "<table border=\"1\" class=\"dataframe\">\n",
       "  <thead>\n",
       "    <tr style=\"text-align: right;\">\n",
       "      <th></th>\n",
       "      <th>Age</th>\n",
       "      <th>Agency_Code</th>\n",
       "      <th>Type</th>\n",
       "      <th>Claimed</th>\n",
       "      <th>Commision</th>\n",
       "      <th>Channel</th>\n",
       "      <th>Duration</th>\n",
       "      <th>Sales</th>\n",
       "      <th>Product Name</th>\n",
       "      <th>Destination</th>\n",
       "    </tr>\n",
       "  </thead>\n",
       "  <tbody>\n",
       "    <tr>\n",
       "      <th>0</th>\n",
       "      <td>48</td>\n",
       "      <td>C2B</td>\n",
       "      <td>Airlines</td>\n",
       "      <td>No</td>\n",
       "      <td>0.70</td>\n",
       "      <td>Online</td>\n",
       "      <td>7</td>\n",
       "      <td>2.51</td>\n",
       "      <td>Customised Plan</td>\n",
       "      <td>ASIA</td>\n",
       "    </tr>\n",
       "    <tr>\n",
       "      <th>1</th>\n",
       "      <td>36</td>\n",
       "      <td>EPX</td>\n",
       "      <td>Travel Agency</td>\n",
       "      <td>No</td>\n",
       "      <td>0.00</td>\n",
       "      <td>Online</td>\n",
       "      <td>34</td>\n",
       "      <td>20.00</td>\n",
       "      <td>Customised Plan</td>\n",
       "      <td>ASIA</td>\n",
       "    </tr>\n",
       "    <tr>\n",
       "      <th>2</th>\n",
       "      <td>39</td>\n",
       "      <td>CWT</td>\n",
       "      <td>Travel Agency</td>\n",
       "      <td>No</td>\n",
       "      <td>5.94</td>\n",
       "      <td>Online</td>\n",
       "      <td>3</td>\n",
       "      <td>9.90</td>\n",
       "      <td>Customised Plan</td>\n",
       "      <td>Americas</td>\n",
       "    </tr>\n",
       "    <tr>\n",
       "      <th>3</th>\n",
       "      <td>36</td>\n",
       "      <td>EPX</td>\n",
       "      <td>Travel Agency</td>\n",
       "      <td>No</td>\n",
       "      <td>0.00</td>\n",
       "      <td>Online</td>\n",
       "      <td>4</td>\n",
       "      <td>26.00</td>\n",
       "      <td>Cancellation Plan</td>\n",
       "      <td>ASIA</td>\n",
       "    </tr>\n",
       "    <tr>\n",
       "      <th>4</th>\n",
       "      <td>33</td>\n",
       "      <td>JZI</td>\n",
       "      <td>Airlines</td>\n",
       "      <td>No</td>\n",
       "      <td>6.30</td>\n",
       "      <td>Online</td>\n",
       "      <td>53</td>\n",
       "      <td>18.00</td>\n",
       "      <td>Bronze Plan</td>\n",
       "      <td>ASIA</td>\n",
       "    </tr>\n",
       "  </tbody>\n",
       "</table>\n",
       "</div>"
      ],
      "text/plain": [
       "   Age Agency_Code           Type Claimed  Commision Channel  Duration  Sales  \\\n",
       "0   48         C2B       Airlines      No       0.70  Online         7   2.51   \n",
       "1   36         EPX  Travel Agency      No       0.00  Online        34  20.00   \n",
       "2   39         CWT  Travel Agency      No       5.94  Online         3   9.90   \n",
       "3   36         EPX  Travel Agency      No       0.00  Online         4  26.00   \n",
       "4   33         JZI       Airlines      No       6.30  Online        53  18.00   \n",
       "\n",
       "        Product Name Destination  \n",
       "0    Customised Plan        ASIA  \n",
       "1    Customised Plan        ASIA  \n",
       "2    Customised Plan    Americas  \n",
       "3  Cancellation Plan        ASIA  \n",
       "4        Bronze Plan        ASIA  "
      ]
     },
     "execution_count": 461,
     "metadata": {},
     "output_type": "execute_result"
    }
   ],
   "source": [
    "df.head()"
   ]
  },
  {
   "cell_type": "code",
   "execution_count": 462,
   "id": "822d116b",
   "metadata": {},
   "outputs": [
    {
     "name": "stdout",
     "output_type": "stream",
     "text": [
      "<class 'pandas.core.frame.DataFrame'>\n",
      "RangeIndex: 3000 entries, 0 to 2999\n",
      "Data columns (total 10 columns):\n",
      " #   Column        Non-Null Count  Dtype  \n",
      "---  ------        --------------  -----  \n",
      " 0   Age           3000 non-null   int64  \n",
      " 1   Agency_Code   3000 non-null   object \n",
      " 2   Type          3000 non-null   object \n",
      " 3   Claimed       3000 non-null   object \n",
      " 4   Commision     3000 non-null   float64\n",
      " 5   Channel       3000 non-null   object \n",
      " 6   Duration      3000 non-null   int64  \n",
      " 7   Sales         3000 non-null   float64\n",
      " 8   Product Name  3000 non-null   object \n",
      " 9   Destination   3000 non-null   object \n",
      "dtypes: float64(2), int64(2), object(6)\n",
      "memory usage: 234.5+ KB\n"
     ]
    }
   ],
   "source": [
    "df.info()"
   ]
  },
  {
   "cell_type": "code",
   "execution_count": 463,
   "id": "c79aacfc",
   "metadata": {},
   "outputs": [
    {
     "data": {
      "text/html": [
       "<div>\n",
       "<style scoped>\n",
       "    .dataframe tbody tr th:only-of-type {\n",
       "        vertical-align: middle;\n",
       "    }\n",
       "\n",
       "    .dataframe tbody tr th {\n",
       "        vertical-align: top;\n",
       "    }\n",
       "\n",
       "    .dataframe thead th {\n",
       "        text-align: right;\n",
       "    }\n",
       "</style>\n",
       "<table border=\"1\" class=\"dataframe\">\n",
       "  <thead>\n",
       "    <tr style=\"text-align: right;\">\n",
       "      <th></th>\n",
       "      <th>count</th>\n",
       "      <th>mean</th>\n",
       "      <th>std</th>\n",
       "      <th>min</th>\n",
       "      <th>25%</th>\n",
       "      <th>50%</th>\n",
       "      <th>75%</th>\n",
       "      <th>max</th>\n",
       "    </tr>\n",
       "  </thead>\n",
       "  <tbody>\n",
       "    <tr>\n",
       "      <th>Age</th>\n",
       "      <td>3000.0</td>\n",
       "      <td>38.091000</td>\n",
       "      <td>10.463518</td>\n",
       "      <td>8.0</td>\n",
       "      <td>32.0</td>\n",
       "      <td>36.00</td>\n",
       "      <td>42.000</td>\n",
       "      <td>84.00</td>\n",
       "    </tr>\n",
       "    <tr>\n",
       "      <th>Commision</th>\n",
       "      <td>3000.0</td>\n",
       "      <td>14.529203</td>\n",
       "      <td>25.481455</td>\n",
       "      <td>0.0</td>\n",
       "      <td>0.0</td>\n",
       "      <td>4.63</td>\n",
       "      <td>17.235</td>\n",
       "      <td>210.21</td>\n",
       "    </tr>\n",
       "    <tr>\n",
       "      <th>Duration</th>\n",
       "      <td>3000.0</td>\n",
       "      <td>70.001333</td>\n",
       "      <td>134.053313</td>\n",
       "      <td>-1.0</td>\n",
       "      <td>11.0</td>\n",
       "      <td>26.50</td>\n",
       "      <td>63.000</td>\n",
       "      <td>4580.00</td>\n",
       "    </tr>\n",
       "    <tr>\n",
       "      <th>Sales</th>\n",
       "      <td>3000.0</td>\n",
       "      <td>60.249913</td>\n",
       "      <td>70.733954</td>\n",
       "      <td>0.0</td>\n",
       "      <td>20.0</td>\n",
       "      <td>33.00</td>\n",
       "      <td>69.000</td>\n",
       "      <td>539.00</td>\n",
       "    </tr>\n",
       "  </tbody>\n",
       "</table>\n",
       "</div>"
      ],
      "text/plain": [
       "            count       mean         std  min   25%    50%     75%      max\n",
       "Age        3000.0  38.091000   10.463518  8.0  32.0  36.00  42.000    84.00\n",
       "Commision  3000.0  14.529203   25.481455  0.0   0.0   4.63  17.235   210.21\n",
       "Duration   3000.0  70.001333  134.053313 -1.0  11.0  26.50  63.000  4580.00\n",
       "Sales      3000.0  60.249913   70.733954  0.0  20.0  33.00  69.000   539.00"
      ]
     },
     "execution_count": 463,
     "metadata": {},
     "output_type": "execute_result"
    }
   ],
   "source": [
    "df.describe().T"
   ]
  },
  {
   "cell_type": "code",
   "execution_count": 464,
   "id": "14c6d933",
   "metadata": {},
   "outputs": [
    {
     "data": {
      "text/plain": [
       "139"
      ]
     },
     "execution_count": 464,
     "metadata": {},
     "output_type": "execute_result"
    }
   ],
   "source": [
    "df.duplicated().sum()"
   ]
  },
  {
   "cell_type": "code",
   "execution_count": 465,
   "id": "0bc051c3",
   "metadata": {},
   "outputs": [],
   "source": [
    "df.drop_duplicates(inplace=True)"
   ]
  },
  {
   "cell_type": "code",
   "execution_count": 466,
   "id": "89bef06a",
   "metadata": {},
   "outputs": [
    {
     "data": {
      "text/plain": [
       "0"
      ]
     },
     "execution_count": 466,
     "metadata": {},
     "output_type": "execute_result"
    }
   ],
   "source": [
    "df.duplicated().sum()"
   ]
  },
  {
   "cell_type": "code",
   "execution_count": 467,
   "id": "e5408aba",
   "metadata": {},
   "outputs": [
    {
     "data": {
      "text/html": [
       "<div>\n",
       "<style scoped>\n",
       "    .dataframe tbody tr th:only-of-type {\n",
       "        vertical-align: middle;\n",
       "    }\n",
       "\n",
       "    .dataframe tbody tr th {\n",
       "        vertical-align: top;\n",
       "    }\n",
       "\n",
       "    .dataframe thead th {\n",
       "        text-align: right;\n",
       "    }\n",
       "</style>\n",
       "<table border=\"1\" class=\"dataframe\">\n",
       "  <thead>\n",
       "    <tr style=\"text-align: right;\">\n",
       "      <th></th>\n",
       "      <th>count</th>\n",
       "      <th>mean</th>\n",
       "      <th>std</th>\n",
       "      <th>min</th>\n",
       "      <th>25%</th>\n",
       "      <th>50%</th>\n",
       "      <th>75%</th>\n",
       "      <th>max</th>\n",
       "    </tr>\n",
       "  </thead>\n",
       "  <tbody>\n",
       "    <tr>\n",
       "      <th>Age</th>\n",
       "      <td>2861.0</td>\n",
       "      <td>38.204124</td>\n",
       "      <td>10.678106</td>\n",
       "      <td>8.0</td>\n",
       "      <td>31.0</td>\n",
       "      <td>36.00</td>\n",
       "      <td>43.00</td>\n",
       "      <td>84.00</td>\n",
       "    </tr>\n",
       "    <tr>\n",
       "      <th>Commision</th>\n",
       "      <td>2861.0</td>\n",
       "      <td>15.080996</td>\n",
       "      <td>25.826834</td>\n",
       "      <td>0.0</td>\n",
       "      <td>0.0</td>\n",
       "      <td>5.63</td>\n",
       "      <td>17.82</td>\n",
       "      <td>210.21</td>\n",
       "    </tr>\n",
       "    <tr>\n",
       "      <th>Duration</th>\n",
       "      <td>2861.0</td>\n",
       "      <td>72.120238</td>\n",
       "      <td>135.977200</td>\n",
       "      <td>-1.0</td>\n",
       "      <td>12.0</td>\n",
       "      <td>28.00</td>\n",
       "      <td>66.00</td>\n",
       "      <td>4580.00</td>\n",
       "    </tr>\n",
       "    <tr>\n",
       "      <th>Sales</th>\n",
       "      <td>2861.0</td>\n",
       "      <td>61.757878</td>\n",
       "      <td>71.399740</td>\n",
       "      <td>0.0</td>\n",
       "      <td>20.0</td>\n",
       "      <td>33.50</td>\n",
       "      <td>69.30</td>\n",
       "      <td>539.00</td>\n",
       "    </tr>\n",
       "  </tbody>\n",
       "</table>\n",
       "</div>"
      ],
      "text/plain": [
       "            count       mean         std  min   25%    50%    75%      max\n",
       "Age        2861.0  38.204124   10.678106  8.0  31.0  36.00  43.00    84.00\n",
       "Commision  2861.0  15.080996   25.826834  0.0   0.0   5.63  17.82   210.21\n",
       "Duration   2861.0  72.120238  135.977200 -1.0  12.0  28.00  66.00  4580.00\n",
       "Sales      2861.0  61.757878   71.399740  0.0  20.0  33.50  69.30   539.00"
      ]
     },
     "execution_count": 467,
     "metadata": {},
     "output_type": "execute_result"
    }
   ],
   "source": [
    "df.describe().T"
   ]
  },
  {
   "cell_type": "markdown",
   "id": "5caea676",
   "metadata": {},
   "source": [
    "Treating Bad data"
   ]
  },
  {
   "cell_type": "code",
   "execution_count": 468,
   "id": "1c1b4597",
   "metadata": {},
   "outputs": [
    {
     "data": {
      "text/html": [
       "<div>\n",
       "<style scoped>\n",
       "    .dataframe tbody tr th:only-of-type {\n",
       "        vertical-align: middle;\n",
       "    }\n",
       "\n",
       "    .dataframe tbody tr th {\n",
       "        vertical-align: top;\n",
       "    }\n",
       "\n",
       "    .dataframe thead th {\n",
       "        text-align: right;\n",
       "    }\n",
       "</style>\n",
       "<table border=\"1\" class=\"dataframe\">\n",
       "  <thead>\n",
       "    <tr style=\"text-align: right;\">\n",
       "      <th></th>\n",
       "      <th>Age</th>\n",
       "      <th>Agency_Code</th>\n",
       "      <th>Type</th>\n",
       "      <th>Claimed</th>\n",
       "      <th>Commision</th>\n",
       "      <th>Channel</th>\n",
       "      <th>Duration</th>\n",
       "      <th>Sales</th>\n",
       "      <th>Product Name</th>\n",
       "      <th>Destination</th>\n",
       "    </tr>\n",
       "  </thead>\n",
       "  <tbody>\n",
       "    <tr>\n",
       "      <th>1508</th>\n",
       "      <td>25</td>\n",
       "      <td>JZI</td>\n",
       "      <td>Airlines</td>\n",
       "      <td>No</td>\n",
       "      <td>6.3</td>\n",
       "      <td>Online</td>\n",
       "      <td>-1</td>\n",
       "      <td>18.0</td>\n",
       "      <td>Bronze Plan</td>\n",
       "      <td>ASIA</td>\n",
       "    </tr>\n",
       "  </tbody>\n",
       "</table>\n",
       "</div>"
      ],
      "text/plain": [
       "      Age Agency_Code      Type Claimed  Commision Channel  Duration  Sales  \\\n",
       "1508   25         JZI  Airlines      No        6.3  Online        -1   18.0   \n",
       "\n",
       "     Product Name Destination  \n",
       "1508  Bronze Plan        ASIA  "
      ]
     },
     "execution_count": 468,
     "metadata": {},
     "output_type": "execute_result"
    }
   ],
   "source": [
    "df[df['Duration'] == -1]"
   ]
  },
  {
   "cell_type": "code",
   "execution_count": 469,
   "id": "01cc5fb6",
   "metadata": {},
   "outputs": [
    {
     "data": {
      "text/plain": [
       "72.12023767913317"
      ]
     },
     "execution_count": 469,
     "metadata": {},
     "output_type": "execute_result"
    }
   ],
   "source": [
    "df['Duration'].mean()"
   ]
  },
  {
   "cell_type": "code",
   "execution_count": 470,
   "id": "7fd6632d",
   "metadata": {},
   "outputs": [],
   "source": [
    "df['Duration'] = df['Duration'].replace(-1, value=df['Duration'].mean())"
   ]
  },
  {
   "cell_type": "code",
   "execution_count": 471,
   "id": "b5995f17",
   "metadata": {},
   "outputs": [
    {
     "data": {
      "text/plain": [
       "Age                      25\n",
       "Agency_Code             JZI\n",
       "Type               Airlines\n",
       "Claimed                  No\n",
       "Commision               6.3\n",
       "Channel              Online\n",
       "Duration          72.120238\n",
       "Sales                  18.0\n",
       "Product Name    Bronze Plan\n",
       "Destination            ASIA\n",
       "Name: 1508, dtype: object"
      ]
     },
     "execution_count": 471,
     "metadata": {},
     "output_type": "execute_result"
    }
   ],
   "source": [
    "df.loc[1508]"
   ]
  },
  {
   "cell_type": "code",
   "execution_count": 472,
   "id": "a5c075d9",
   "metadata": {},
   "outputs": [],
   "source": [
    "df1=df\n"
   ]
  },
  {
   "cell_type": "code",
   "execution_count": 473,
   "id": "77c0ba86",
   "metadata": {},
   "outputs": [
    {
     "data": {
      "text/html": [
       "<div>\n",
       "<style scoped>\n",
       "    .dataframe tbody tr th:only-of-type {\n",
       "        vertical-align: middle;\n",
       "    }\n",
       "\n",
       "    .dataframe tbody tr th {\n",
       "        vertical-align: top;\n",
       "    }\n",
       "\n",
       "    .dataframe thead th {\n",
       "        text-align: right;\n",
       "    }\n",
       "</style>\n",
       "<table border=\"1\" class=\"dataframe\">\n",
       "  <thead>\n",
       "    <tr style=\"text-align: right;\">\n",
       "      <th></th>\n",
       "      <th>Age</th>\n",
       "      <th>Duration</th>\n",
       "      <th>Commision</th>\n",
       "      <th>Sales</th>\n",
       "    </tr>\n",
       "  </thead>\n",
       "  <tbody>\n",
       "    <tr>\n",
       "      <th>0</th>\n",
       "      <td>48</td>\n",
       "      <td>7.0</td>\n",
       "      <td>0.70</td>\n",
       "      <td>2.51</td>\n",
       "    </tr>\n",
       "    <tr>\n",
       "      <th>1</th>\n",
       "      <td>36</td>\n",
       "      <td>34.0</td>\n",
       "      <td>0.00</td>\n",
       "      <td>20.00</td>\n",
       "    </tr>\n",
       "    <tr>\n",
       "      <th>2</th>\n",
       "      <td>39</td>\n",
       "      <td>3.0</td>\n",
       "      <td>5.94</td>\n",
       "      <td>9.90</td>\n",
       "    </tr>\n",
       "    <tr>\n",
       "      <th>3</th>\n",
       "      <td>36</td>\n",
       "      <td>4.0</td>\n",
       "      <td>0.00</td>\n",
       "      <td>26.00</td>\n",
       "    </tr>\n",
       "    <tr>\n",
       "      <th>4</th>\n",
       "      <td>33</td>\n",
       "      <td>53.0</td>\n",
       "      <td>6.30</td>\n",
       "      <td>18.00</td>\n",
       "    </tr>\n",
       "  </tbody>\n",
       "</table>\n",
       "</div>"
      ],
      "text/plain": [
       "   Age  Duration  Commision  Sales\n",
       "0   48       7.0       0.70   2.51\n",
       "1   36      34.0       0.00  20.00\n",
       "2   39       3.0       5.94   9.90\n",
       "3   36       4.0       0.00  26.00\n",
       "4   33      53.0       6.30  18.00"
      ]
     },
     "execution_count": 473,
     "metadata": {},
     "output_type": "execute_result"
    }
   ],
   "source": [
    "df_numerical = df[['Age', 'Duration', 'Commision', 'Sales']]\n",
    "df_numerical.head()"
   ]
  },
  {
   "cell_type": "code",
   "execution_count": 474,
   "id": "72968a52",
   "metadata": {},
   "outputs": [
    {
     "data": {
      "text/html": [
       "<div>\n",
       "<style scoped>\n",
       "    .dataframe tbody tr th:only-of-type {\n",
       "        vertical-align: middle;\n",
       "    }\n",
       "\n",
       "    .dataframe tbody tr th {\n",
       "        vertical-align: top;\n",
       "    }\n",
       "\n",
       "    .dataframe thead th {\n",
       "        text-align: right;\n",
       "    }\n",
       "</style>\n",
       "<table border=\"1\" class=\"dataframe\">\n",
       "  <thead>\n",
       "    <tr style=\"text-align: right;\">\n",
       "      <th></th>\n",
       "      <th>Agency_Code</th>\n",
       "      <th>Type</th>\n",
       "      <th>Claimed</th>\n",
       "      <th>Channel</th>\n",
       "      <th>Product Name</th>\n",
       "      <th>Destination</th>\n",
       "    </tr>\n",
       "  </thead>\n",
       "  <tbody>\n",
       "    <tr>\n",
       "      <th>0</th>\n",
       "      <td>C2B</td>\n",
       "      <td>Airlines</td>\n",
       "      <td>No</td>\n",
       "      <td>Online</td>\n",
       "      <td>Customised Plan</td>\n",
       "      <td>ASIA</td>\n",
       "    </tr>\n",
       "    <tr>\n",
       "      <th>1</th>\n",
       "      <td>EPX</td>\n",
       "      <td>Travel Agency</td>\n",
       "      <td>No</td>\n",
       "      <td>Online</td>\n",
       "      <td>Customised Plan</td>\n",
       "      <td>ASIA</td>\n",
       "    </tr>\n",
       "    <tr>\n",
       "      <th>2</th>\n",
       "      <td>CWT</td>\n",
       "      <td>Travel Agency</td>\n",
       "      <td>No</td>\n",
       "      <td>Online</td>\n",
       "      <td>Customised Plan</td>\n",
       "      <td>Americas</td>\n",
       "    </tr>\n",
       "    <tr>\n",
       "      <th>3</th>\n",
       "      <td>EPX</td>\n",
       "      <td>Travel Agency</td>\n",
       "      <td>No</td>\n",
       "      <td>Online</td>\n",
       "      <td>Cancellation Plan</td>\n",
       "      <td>ASIA</td>\n",
       "    </tr>\n",
       "    <tr>\n",
       "      <th>4</th>\n",
       "      <td>JZI</td>\n",
       "      <td>Airlines</td>\n",
       "      <td>No</td>\n",
       "      <td>Online</td>\n",
       "      <td>Bronze Plan</td>\n",
       "      <td>ASIA</td>\n",
       "    </tr>\n",
       "  </tbody>\n",
       "</table>\n",
       "</div>"
      ],
      "text/plain": [
       "  Agency_Code           Type Claimed Channel       Product Name Destination\n",
       "0         C2B       Airlines      No  Online    Customised Plan        ASIA\n",
       "1         EPX  Travel Agency      No  Online    Customised Plan        ASIA\n",
       "2         CWT  Travel Agency      No  Online    Customised Plan    Americas\n",
       "3         EPX  Travel Agency      No  Online  Cancellation Plan        ASIA\n",
       "4         JZI       Airlines      No  Online        Bronze Plan        ASIA"
      ]
     },
     "execution_count": 474,
     "metadata": {},
     "output_type": "execute_result"
    }
   ],
   "source": [
    "df_categorical = df[['Agency_Code', 'Type', 'Claimed', 'Channel', 'Product Name', 'Destination']]\n",
    "df_categorical.head()"
   ]
  },
  {
   "cell_type": "code",
   "execution_count": 475,
   "id": "14d34974",
   "metadata": {},
   "outputs": [
    {
     "data": {
      "text/plain": [
       "No     1947\n",
       "Yes     914\n",
       "Name: Claimed, dtype: int64"
      ]
     },
     "execution_count": 475,
     "metadata": {},
     "output_type": "execute_result"
    }
   ],
   "source": [
    "df_categorical['Claimed'].value_counts()"
   ]
  },
  {
   "cell_type": "markdown",
   "id": "73022a38",
   "metadata": {},
   "source": [
    "Univariate Analysis\n",
    "\n",
    "Boxplots\n"
   ]
  },
  {
   "cell_type": "code",
   "execution_count": 476,
   "id": "a993d23c",
   "metadata": {},
   "outputs": [
    {
     "data": {
      "image/png": "[encoded data removed]",
      "text/plain": [
       "<Figure size 1080x576 with 4 Axes>"
      ]
     },
     "metadata": {
      "needs_background": "light"
     },
     "output_type": "display_data"
    }
   ],
   "source": [
    "plt.figure(figsize = (15,8))\n",
    "feature_list = df_numerical.columns\n",
    "for i in range(len(feature_list)):\n",
    "    plt.subplot(2,2,i+1)\n",
    "    sns.boxplot(x=df_numerical[feature_list[i]], data=df_numerical, orient='h', color='r')\n",
    "    plt.title('Boxplot of {}'.format(feature_list[i]))\n",
    "    plt.tight_layout()"
   ]
  },
  {
   "cell_type": "code",
   "execution_count": 477,
   "id": "5de7f5b0",
   "metadata": {},
   "outputs": [],
   "source": [
    "from scipy.stats import norm"
   ]
  },
  {
   "cell_type": "code",
   "execution_count": 478,
   "id": "9c996a0e",
   "metadata": {},
   "outputs": [
    {
     "data": {
      "image/png": "[encoded data removed]",
      "text/plain": [
       "<Figure size 1080x576 with 4 Axes>"
      ]
     },
     "metadata": {
      "needs_background": "light"
     },
     "output_type": "display_data"
    }
   ],
   "source": [
    "plt.figure(figsize = (15,8))\n",
    "feature_list = df_numerical.columns\n",
    "for i in range(len(feature_list)):\n",
    "    plt.subplot(2,2,i+1)\n",
    "    sns.distplot(x=df_numerical[feature_list[i]], color='b', fit=norm)\n",
    "    plt.title('Distribution Plot of {}'.format(feature_list[i]))\n",
    "    plt.tight_layout()"
   ]
  },
  {
   "cell_type": "code",
   "execution_count": 479,
   "id": "ab009a2a",
   "metadata": {},
   "outputs": [
    {
     "name": "stdout",
     "output_type": "stream",
     "text": [
      "Skewness of Age is 1.1\n",
      "Kurtosis of Age is 1.44\n",
      "Skewness of Duration is 13.79\n",
      "Kurtosis of Duration is 422.71\n",
      "Skewness of Commision is 3.1\n",
      "Kurtosis of Commision is 13.59\n",
      "Skewness of Sales is 2.34\n",
      "Kurtosis of Sales is 5.97\n"
     ]
    }
   ],
   "source": [
    "for columns in df_numerical.columns:\n",
    "    print('Skewness of {} is'.format(columns), round(df_numerical[columns].skew(),2))\n",
    "    print('Kurtosis of {} is'.format(columns), round(df_numerical[columns].kurt(),2))"
   ]
  },
  {
   "cell_type": "markdown",
   "id": "e17e324e",
   "metadata": {},
   "source": [
    "Bivariate Analysis\n",
    "\n",
    "Plotting numerical variables w.r.t Claimed status\n"
   ]
  },
  {
   "cell_type": "code",
   "execution_count": 480,
   "id": "7e52cde7",
   "metadata": {},
   "outputs": [
    {
     "data": {
      "image/png": "[encoded data removed]",
      "text/plain": [
       "<Figure size 1080x720 with 4 Axes>"
      ]
     },
     "metadata": {
      "needs_background": "light"
     },
     "output_type": "display_data"
    }
   ],
   "source": [
    "plt.figure(figsize=(15,10))\n",
    "\n",
    "plt.subplot(2,2,1)\n",
    "sns.boxplot(y='Claimed', x='Age', data=df)\n",
    "plt.title('Boxplot of Age w.r.t Claimed')\n",
    "\n",
    "plt.subplot(2,2,2)\n",
    "sns.boxplot(y='Claimed', x='Duration', data=df)\n",
    "plt.title('Boxplot of Age w.r.t Duration')\n",
    "\n",
    "plt.subplot(2,2,3)\n",
    "sns.boxplot(y='Claimed', x='Commision', data=df)\n",
    "plt.title('Boxplot of Age w.r.t Commission')\n",
    "\n",
    "plt.subplot(2,2,4)\n",
    "sns.boxplot(y='Claimed', x='Sales', data=df)\n",
    "plt.title('Boxplot of Age w.r.t Sales');\n"
   ]
  },
  {
   "cell_type": "code",
   "execution_count": 481,
   "id": "82c250f7",
   "metadata": {},
   "outputs": [
    {
     "data": {
      "image/png": "[encoded data removed]",
      "text/plain": [
       "<Figure size 1080x720 with 4 Axes>"
      ]
     },
     "metadata": {
      "needs_background": "light"
     },
     "output_type": "display_data"
    }
   ],
   "source": [
    "plt.figure(figsize=(15,10))\n",
    "\n",
    "plt.subplot(2,2,1)\n",
    "sns.boxplot(y='Age', x='Type', hue='Claimed', data=df)\n",
    "sns.set_style('whitegrid')\n",
    "sns.set_palette('bright')\n",
    "plt.title('Boxplot of Age w.r.t Type')\n",
    "\n",
    "plt.subplot(2,2,2)\n",
    "sns.boxplot(y='Age', x='Channel', hue='Claimed', data=df)\n",
    "sns.set_style('whitegrid')\n",
    "sns.set_palette('bright')\n",
    "plt.title('Boxplot of Age w.r.t Channel')\n",
    "\n",
    "plt.subplot(2,2,3)\n",
    "sns.boxplot(y='Age', x='Product Name', hue='Claimed', data=df)\n",
    "sns.set_style('whitegrid')\n",
    "sns.set_palette('bright')\n",
    "plt.title('Boxplot of Age w.r.t Product Name');\n",
    "\n",
    "plt.subplot(2,2,4)\n",
    "sns.boxplot(y='Age', x='Destination', hue='Claimed', data=df)\n",
    "sns.set_style('whitegrid')\n",
    "sns.set_palette('bright')\n",
    "plt.title('Boxplot of Age w.r.t Destination');\n"
   ]
  },
  {
   "cell_type": "code",
   "execution_count": 482,
   "id": "e06eb073",
   "metadata": {},
   "outputs": [
    {
     "data": {
      "text/plain": [
       "<seaborn.axisgrid.PairGrid at 0x19fa2bd9a30>"
      ]
     },
     "execution_count": 482,
     "metadata": {},
     "output_type": "execute_result"
    },
    {
     "data": {
      "image/png": "[encoded data removed]",
      "text/plain": [
       "<Figure size 772.375x720 with 14 Axes>"
      ]
     },
     "metadata": {},
     "output_type": "display_data"
    }
   ],
   "source": [
    "sns.pairplot(df, corner=True, hue='Claimed')"
   ]
  },
  {
   "cell_type": "code",
   "execution_count": 483,
   "id": "85bdd8f9",
   "metadata": {},
   "outputs": [
    {
     "data": {
      "text/html": [
       "<div>\n",
       "<style scoped>\n",
       "    .dataframe tbody tr th:only-of-type {\n",
       "        vertical-align: middle;\n",
       "    }\n",
       "\n",
       "    .dataframe tbody tr th {\n",
       "        vertical-align: top;\n",
       "    }\n",
       "\n",
       "    .dataframe thead th {\n",
       "        text-align: right;\n",
       "    }\n",
       "</style>\n",
       "<table border=\"1\" class=\"dataframe\">\n",
       "  <thead>\n",
       "    <tr style=\"text-align: right;\">\n",
       "      <th></th>\n",
       "      <th>Age</th>\n",
       "      <th>Commision</th>\n",
       "      <th>Duration</th>\n",
       "      <th>Sales</th>\n",
       "    </tr>\n",
       "  </thead>\n",
       "  <tbody>\n",
       "    <tr>\n",
       "      <th>Age</th>\n",
       "      <td>1.000000</td>\n",
       "      <td>0.064759</td>\n",
       "      <td>0.027226</td>\n",
       "      <td>0.036187</td>\n",
       "    </tr>\n",
       "    <tr>\n",
       "      <th>Commision</th>\n",
       "      <td>0.064759</td>\n",
       "      <td>1.000000</td>\n",
       "      <td>0.462073</td>\n",
       "      <td>0.762181</td>\n",
       "    </tr>\n",
       "    <tr>\n",
       "      <th>Duration</th>\n",
       "      <td>0.027226</td>\n",
       "      <td>0.462073</td>\n",
       "      <td>1.000000</td>\n",
       "      <td>0.549802</td>\n",
       "    </tr>\n",
       "    <tr>\n",
       "      <th>Sales</th>\n",
       "      <td>0.036187</td>\n",
       "      <td>0.762181</td>\n",
       "      <td>0.549802</td>\n",
       "      <td>1.000000</td>\n",
       "    </tr>\n",
       "  </tbody>\n",
       "</table>\n",
       "</div>"
      ],
      "text/plain": [
       "                Age  Commision  Duration     Sales\n",
       "Age        1.000000   0.064759  0.027226  0.036187\n",
       "Commision  0.064759   1.000000  0.462073  0.762181\n",
       "Duration   0.027226   0.462073  1.000000  0.549802\n",
       "Sales      0.036187   0.762181  0.549802  1.000000"
      ]
     },
     "execution_count": 483,
     "metadata": {},
     "output_type": "execute_result"
    }
   ],
   "source": [
    "corr = df.corr()\n",
    "corr"
   ]
  },
  {
   "cell_type": "code",
   "execution_count": 484,
   "id": "d6c800ac",
   "metadata": {},
   "outputs": [
    {
     "data": {
      "text/plain": [
       "<AxesSubplot:>"
      ]
     },
     "execution_count": 484,
     "metadata": {},
     "output_type": "execute_result"
    },
    {
     "data": {
      "image/png": "[encoded data removed]",
      "text/plain": [
       "<Figure size 720x576 with 2 Axes>"
      ]
     },
     "metadata": {},
     "output_type": "display_data"
    }
   ],
   "source": [
    "plt.figure(figsize=(10,8))\n",
    "sns.heatmap(corr, annot=True)"
   ]
  },
  {
   "cell_type": "code",
   "execution_count": 485,
   "id": "02f30c25",
   "metadata": {},
   "outputs": [
    {
     "data": {
      "text/plain": [
       "EPX    1238\n",
       "C2B     913\n",
       "CWT     471\n",
       "JZI     239\n",
       "Name: Agency_Code, dtype: int64"
      ]
     },
     "execution_count": 485,
     "metadata": {},
     "output_type": "execute_result"
    }
   ],
   "source": [
    "df['Agency_Code'].value_counts()"
   ]
  },
  {
   "cell_type": "markdown",
   "id": "4f9e8a6c",
   "metadata": {},
   "source": [
    "### 2.2 Data Split: Split the data into test and train, build classification model CART, Random Forest, Artificial Neural Network\n",
    "    \n",
    "### 2.3 Performance Metrics: Comment and Check the performance of Predictions on Train and Test sets using Accuracy, Confusion Matrix, Plot ROC curve and get ROC_AUC score, classification reports for each model. \n"
   ]
  },
  {
   "cell_type": "code",
   "execution_count": 486,
   "id": "681ec220",
   "metadata": {},
   "outputs": [],
   "source": [
    "for column in df.columns:\n",
    "    if df[column].dtype == 'object':\n",
    "        df[column] = pd.Categorical(df[column]).codes"
   ]
  },
  {
   "cell_type": "code",
   "execution_count": 487,
   "id": "e9f74a0e",
   "metadata": {},
   "outputs": [
    {
     "name": "stdout",
     "output_type": "stream",
     "text": [
      "<class 'pandas.core.frame.DataFrame'>\n",
      "Int64Index: 2861 entries, 0 to 2999\n",
      "Data columns (total 10 columns):\n",
      " #   Column        Non-Null Count  Dtype  \n",
      "---  ------        --------------  -----  \n",
      " 0   Age           2861 non-null   int64  \n",
      " 1   Agency_Code   2861 non-null   int8   \n",
      " 2   Type          2861 non-null   int8   \n",
      " 3   Claimed       2861 non-null   int8   \n",
      " 4   Commision     2861 non-null   float64\n",
      " 5   Channel       2861 non-null   int8   \n",
      " 6   Duration      2861 non-null   float64\n",
      " 7   Sales         2861 non-null   float64\n",
      " 8   Product Name  2861 non-null   int8   \n",
      " 9   Destination   2861 non-null   int8   \n",
      "dtypes: float64(3), int64(1), int8(6)\n",
      "memory usage: 193.1 KB\n"
     ]
    }
   ],
   "source": [
    "df.info()"
   ]
  },
  {
   "cell_type": "code",
   "execution_count": 488,
   "id": "0096993c",
   "metadata": {},
   "outputs": [
    {
     "data": {
      "text/html": [
       "<div>\n",
       "<style scoped>\n",
       "    .dataframe tbody tr th:only-of-type {\n",
       "        vertical-align: middle;\n",
       "    }\n",
       "\n",
       "    .dataframe tbody tr th {\n",
       "        vertical-align: top;\n",
       "    }\n",
       "\n",
       "    .dataframe thead th {\n",
       "        text-align: right;\n",
       "    }\n",
       "</style>\n",
       "<table border=\"1\" class=\"dataframe\">\n",
       "  <thead>\n",
       "    <tr style=\"text-align: right;\">\n",
       "      <th></th>\n",
       "      <th>Age</th>\n",
       "      <th>Agency_Code</th>\n",
       "      <th>Type</th>\n",
       "      <th>Claimed</th>\n",
       "      <th>Commision</th>\n",
       "      <th>Channel</th>\n",
       "      <th>Duration</th>\n",
       "      <th>Sales</th>\n",
       "      <th>Product Name</th>\n",
       "      <th>Destination</th>\n",
       "    </tr>\n",
       "  </thead>\n",
       "  <tbody>\n",
       "    <tr>\n",
       "      <th>0</th>\n",
       "      <td>48</td>\n",
       "      <td>0</td>\n",
       "      <td>0</td>\n",
       "      <td>0</td>\n",
       "      <td>0.70</td>\n",
       "      <td>1</td>\n",
       "      <td>7.0</td>\n",
       "      <td>2.51</td>\n",
       "      <td>2</td>\n",
       "      <td>0</td>\n",
       "    </tr>\n",
       "    <tr>\n",
       "      <th>1</th>\n",
       "      <td>36</td>\n",
       "      <td>2</td>\n",
       "      <td>1</td>\n",
       "      <td>0</td>\n",
       "      <td>0.00</td>\n",
       "      <td>1</td>\n",
       "      <td>34.0</td>\n",
       "      <td>20.00</td>\n",
       "      <td>2</td>\n",
       "      <td>0</td>\n",
       "    </tr>\n",
       "    <tr>\n",
       "      <th>2</th>\n",
       "      <td>39</td>\n",
       "      <td>1</td>\n",
       "      <td>1</td>\n",
       "      <td>0</td>\n",
       "      <td>5.94</td>\n",
       "      <td>1</td>\n",
       "      <td>3.0</td>\n",
       "      <td>9.90</td>\n",
       "      <td>2</td>\n",
       "      <td>1</td>\n",
       "    </tr>\n",
       "    <tr>\n",
       "      <th>3</th>\n",
       "      <td>36</td>\n",
       "      <td>2</td>\n",
       "      <td>1</td>\n",
       "      <td>0</td>\n",
       "      <td>0.00</td>\n",
       "      <td>1</td>\n",
       "      <td>4.0</td>\n",
       "      <td>26.00</td>\n",
       "      <td>1</td>\n",
       "      <td>0</td>\n",
       "    </tr>\n",
       "    <tr>\n",
       "      <th>4</th>\n",
       "      <td>33</td>\n",
       "      <td>3</td>\n",
       "      <td>0</td>\n",
       "      <td>0</td>\n",
       "      <td>6.30</td>\n",
       "      <td>1</td>\n",
       "      <td>53.0</td>\n",
       "      <td>18.00</td>\n",
       "      <td>0</td>\n",
       "      <td>0</td>\n",
       "    </tr>\n",
       "  </tbody>\n",
       "</table>\n",
       "</div>"
      ],
      "text/plain": [
       "   Age  Agency_Code  Type  Claimed  Commision  Channel  Duration  Sales  \\\n",
       "0   48            0     0        0       0.70        1       7.0   2.51   \n",
       "1   36            2     1        0       0.00        1      34.0  20.00   \n",
       "2   39            1     1        0       5.94        1       3.0   9.90   \n",
       "3   36            2     1        0       0.00        1       4.0  26.00   \n",
       "4   33            3     0        0       6.30        1      53.0  18.00   \n",
       "\n",
       "   Product Name  Destination  \n",
       "0             2            0  \n",
       "1             2            0  \n",
       "2             2            1  \n",
       "3             1            0  \n",
       "4             0            0  "
      ]
     },
     "execution_count": 488,
     "metadata": {},
     "output_type": "execute_result"
    }
   ],
   "source": [
    "df.head()"
   ]
  },
  {
   "cell_type": "code",
   "execution_count": 489,
   "id": "99dc215a",
   "metadata": {},
   "outputs": [
    {
     "data": {
      "text/plain": [
       "No     1947\n",
       "Yes     914\n",
       "Name: Claimed, dtype: int64"
      ]
     },
     "execution_count": 489,
     "metadata": {},
     "output_type": "execute_result"
    }
   ],
   "source": [
    "df_categorical['Claimed'].value_counts()"
   ]
  },
  {
   "cell_type": "code",
   "execution_count": 490,
   "id": "510cc581",
   "metadata": {},
   "outputs": [
    {
     "data": {
      "text/html": [
       "<div>\n",
       "<style scoped>\n",
       "    .dataframe tbody tr th:only-of-type {\n",
       "        vertical-align: middle;\n",
       "    }\n",
       "\n",
       "    .dataframe tbody tr th {\n",
       "        vertical-align: top;\n",
       "    }\n",
       "\n",
       "    .dataframe thead th {\n",
       "        text-align: right;\n",
       "    }\n",
       "</style>\n",
       "<table border=\"1\" class=\"dataframe\">\n",
       "  <thead>\n",
       "    <tr style=\"text-align: right;\">\n",
       "      <th></th>\n",
       "      <th>Age</th>\n",
       "      <th>Agency_Code</th>\n",
       "      <th>Type</th>\n",
       "      <th>Commision</th>\n",
       "      <th>Channel</th>\n",
       "      <th>Duration</th>\n",
       "      <th>Sales</th>\n",
       "      <th>Product Name</th>\n",
       "      <th>Destination</th>\n",
       "    </tr>\n",
       "  </thead>\n",
       "  <tbody>\n",
       "    <tr>\n",
       "      <th>0</th>\n",
       "      <td>48</td>\n",
       "      <td>0</td>\n",
       "      <td>0</td>\n",
       "      <td>0.70</td>\n",
       "      <td>1</td>\n",
       "      <td>7.0</td>\n",
       "      <td>2.51</td>\n",
       "      <td>2</td>\n",
       "      <td>0</td>\n",
       "    </tr>\n",
       "    <tr>\n",
       "      <th>1</th>\n",
       "      <td>36</td>\n",
       "      <td>2</td>\n",
       "      <td>1</td>\n",
       "      <td>0.00</td>\n",
       "      <td>1</td>\n",
       "      <td>34.0</td>\n",
       "      <td>20.00</td>\n",
       "      <td>2</td>\n",
       "      <td>0</td>\n",
       "    </tr>\n",
       "    <tr>\n",
       "      <th>2</th>\n",
       "      <td>39</td>\n",
       "      <td>1</td>\n",
       "      <td>1</td>\n",
       "      <td>5.94</td>\n",
       "      <td>1</td>\n",
       "      <td>3.0</td>\n",
       "      <td>9.90</td>\n",
       "      <td>2</td>\n",
       "      <td>1</td>\n",
       "    </tr>\n",
       "    <tr>\n",
       "      <th>3</th>\n",
       "      <td>36</td>\n",
       "      <td>2</td>\n",
       "      <td>1</td>\n",
       "      <td>0.00</td>\n",
       "      <td>1</td>\n",
       "      <td>4.0</td>\n",
       "      <td>26.00</td>\n",
       "      <td>1</td>\n",
       "      <td>0</td>\n",
       "    </tr>\n",
       "    <tr>\n",
       "      <th>4</th>\n",
       "      <td>33</td>\n",
       "      <td>3</td>\n",
       "      <td>0</td>\n",
       "      <td>6.30</td>\n",
       "      <td>1</td>\n",
       "      <td>53.0</td>\n",
       "      <td>18.00</td>\n",
       "      <td>0</td>\n",
       "      <td>0</td>\n",
       "    </tr>\n",
       "  </tbody>\n",
       "</table>\n",
       "</div>"
      ],
      "text/plain": [
       "   Age  Agency_Code  Type  Commision  Channel  Duration  Sales  Product Name  \\\n",
       "0   48            0     0       0.70        1       7.0   2.51             2   \n",
       "1   36            2     1       0.00        1      34.0  20.00             2   \n",
       "2   39            1     1       5.94        1       3.0   9.90             2   \n",
       "3   36            2     1       0.00        1       4.0  26.00             1   \n",
       "4   33            3     0       6.30        1      53.0  18.00             0   \n",
       "\n",
       "   Destination  \n",
       "0            0  \n",
       "1            0  \n",
       "2            1  \n",
       "3            0  \n",
       "4            0  "
      ]
     },
     "execution_count": 490,
     "metadata": {},
     "output_type": "execute_result"
    }
   ],
   "source": [
    "X = df.drop('Claimed', axis=1)\n",
    "\n",
    "y = df.pop('Claimed')\n",
    "\n",
    "X.head()"
   ]
  },
  {
   "cell_type": "code",
   "execution_count": 491,
   "id": "97524366",
   "metadata": {},
   "outputs": [],
   "source": [
    "from sklearn.model_selection import train_test_split"
   ]
  },
  {
   "cell_type": "code",
   "execution_count": 492,
   "id": "6efd18cd",
   "metadata": {},
   "outputs": [],
   "source": [
    "X_train, X_test, y_train, y_test = train_test_split(X, y, test_size=0.30, random_state=0)"
   ]
  },
  {
   "cell_type": "code",
   "execution_count": 493,
   "id": "904225c7",
   "metadata": {},
   "outputs": [
    {
     "data": {
      "text/plain": [
       "(2861, 9)"
      ]
     },
     "execution_count": 493,
     "metadata": {},
     "output_type": "execute_result"
    }
   ],
   "source": [
    "df.shape"
   ]
  },
  {
   "cell_type": "code",
   "execution_count": 494,
   "id": "329c45b3",
   "metadata": {},
   "outputs": [],
   "source": [
    "from sklearn.tree import DecisionTreeClassifier"
   ]
  },
  {
   "cell_type": "code",
   "execution_count": 495,
   "id": "8994e44c",
   "metadata": {},
   "outputs": [],
   "source": [
    "dtree_model = DecisionTreeClassifier(criterion='gini', random_state=0)"
   ]
  },
  {
   "cell_type": "code",
   "execution_count": 496,
   "id": "532c9879",
   "metadata": {},
   "outputs": [
    {
     "data": {
      "text/plain": [
       "DecisionTreeClassifier(random_state=0)"
      ]
     },
     "execution_count": 496,
     "metadata": {},
     "output_type": "execute_result"
    }
   ],
   "source": [
    "dtree_model.fit(X_train, y_train)"
   ]
  },
  {
   "cell_type": "code",
   "execution_count": 497,
   "id": "e3bf4236",
   "metadata": {},
   "outputs": [],
   "source": [
    "from sklearn import tree"
   ]
  },
  {
   "cell_type": "code",
   "execution_count": 498,
   "id": "bb527c78",
   "metadata": {},
   "outputs": [],
   "source": [
    "train_char_label = ['No', 'Yes']\n",
    "tree_file = open('tree_File.dot','w')\n",
    "dot_data = tree.export_graphviz(dtree_model, out_file=tree_file, feature_names=list(X_train), class_names=train_char_label)\n",
    "tree_file.close()"
   ]
  },
  {
   "cell_type": "markdown",
   "id": "b437c233",
   "metadata": {},
   "source": [
    "http://webgraphviz.com/"
   ]
  },
  {
   "cell_type": "code",
   "execution_count": 499,
   "id": "8c764fd2",
   "metadata": {},
   "outputs": [],
   "source": [
    "from sklearn.model_selection import GridSearchCV"
   ]
  },
  {
   "cell_type": "code",
   "execution_count": 500,
   "id": "ae9353aa",
   "metadata": {},
   "outputs": [],
   "source": [
    "param_grid = {\n",
    "    'max_depth': [10,13,15],\n",
    "    'min_samples_leaf': [10,50,100],\n",
    "    'min_samples_split': [100,150,200]\n",
    "}"
   ]
  },
  {
   "cell_type": "code",
   "execution_count": 501,
   "id": "cf8727ad",
   "metadata": {},
   "outputs": [],
   "source": [
    "reg_dtree = DecisionTreeClassifier()"
   ]
  },
  {
   "cell_type": "code",
   "execution_count": 502,
   "id": "9a9f4b2e",
   "metadata": {},
   "outputs": [],
   "source": [
    "grid_search = GridSearchCV(estimator=reg_dtree, param_grid=param_grid, cv=3, scoring='recall')"
   ]
  },
  {
   "cell_type": "code",
   "execution_count": 503,
   "id": "13c5a7be",
   "metadata": {},
   "outputs": [
    {
     "data": {
      "text/plain": [
       "GridSearchCV(cv=3, estimator=DecisionTreeClassifier(),\n",
       "             param_grid={'max_depth': [10, 13, 15],\n",
       "                         'min_samples_leaf': [10, 50, 100],\n",
       "                         'min_samples_split': [100, 150, 200]},\n",
       "             scoring='recall')"
      ]
     },
     "execution_count": 503,
     "metadata": {},
     "output_type": "execute_result"
    }
   ],
   "source": [
    "grid_search.fit(X_train, y_train)"
   ]
  },
  {
   "cell_type": "code",
   "execution_count": 504,
   "id": "dff4b1cd",
   "metadata": {},
   "outputs": [
    {
     "data": {
      "text/plain": [
       "{'max_depth': 10, 'min_samples_leaf': 50, 'min_samples_split': 150}"
      ]
     },
     "execution_count": 504,
     "metadata": {},
     "output_type": "execute_result"
    }
   ],
   "source": [
    "grid_search.best_params_"
   ]
  },
  {
   "cell_type": "code",
   "execution_count": 505,
   "id": "3e27b19d",
   "metadata": {},
   "outputs": [
    {
     "data": {
      "text/plain": [
       "DecisionTreeClassifier(max_depth=10, min_samples_leaf=50, min_samples_split=150)"
      ]
     },
     "execution_count": 505,
     "metadata": {},
     "output_type": "execute_result"
    }
   ],
   "source": [
    "grid_search.best_estimator_"
   ]
  },
  {
   "cell_type": "code",
   "execution_count": 506,
   "id": "e5a8520a",
   "metadata": {},
   "outputs": [],
   "source": [
    "best_grid = grid_search.best_estimator_"
   ]
  },
  {
   "cell_type": "code",
   "execution_count": 507,
   "id": "028fe6fa",
   "metadata": {},
   "outputs": [
    {
     "data": {
      "text/plain": [
       "array([0.01888435, 0.60924483, 0.        , 0.02937268, 0.        ,\n",
       "       0.02069592, 0.28795869, 0.03384353, 0.        ])"
      ]
     },
     "execution_count": 507,
     "metadata": {},
     "output_type": "execute_result"
    }
   ],
   "source": [
    "best_grid.feature_importances_"
   ]
  },
  {
   "cell_type": "markdown",
   "id": "e883b7dc",
   "metadata": {},
   "source": [
    "Predicting on Training and Test data"
   ]
  },
  {
   "cell_type": "code",
   "execution_count": 508,
   "id": "2344e282",
   "metadata": {},
   "outputs": [],
   "source": [
    "ytrain_predict = best_grid.predict(X_train)\n",
    "ytest_predict = best_grid.predict(X_test)"
   ]
  },
  {
   "cell_type": "code",
   "execution_count": 509,
   "id": "24344f79",
   "metadata": {},
   "outputs": [
    {
     "name": "stdout",
     "output_type": "stream",
     "text": [
      "              Importance\n",
      "Agency_Code     0.609245\n",
      "Sales           0.287959\n",
      "Product Name    0.033844\n",
      "Commision       0.029373\n",
      "Duration        0.020696\n",
      "Age             0.018884\n",
      "Type            0.000000\n",
      "Channel         0.000000\n",
      "Destination     0.000000\n"
     ]
    }
   ],
   "source": [
    "print (pd.DataFrame(best_grid.feature_importances_, \n",
    "                    columns = [\"Importance\"], index = X_train.columns).sort_values('Importance',ascending=False))"
   ]
  },
  {
   "cell_type": "markdown",
   "id": "83ca98fe",
   "metadata": {},
   "source": [
    "Model Evaluation - CART\n",
    "\n",
    "AUC and ROC for Training data"
   ]
  },
  {
   "cell_type": "code",
   "execution_count": 510,
   "id": "8a8b5ecd",
   "metadata": {},
   "outputs": [],
   "source": [
    "from sklearn.metrics import roc_auc_score, roc_curve, classification_report, confusion_matrix"
   ]
  },
  {
   "cell_type": "code",
   "execution_count": 511,
   "id": "af428785",
   "metadata": {},
   "outputs": [
    {
     "name": "stdout",
     "output_type": "stream",
     "text": [
      "AUC: 0.83\n"
     ]
    },
    {
     "data": {
      "text/plain": [
       "[<matplotlib.lines.Line2D at 0x19f9f133af0>]"
      ]
     },
     "execution_count": 511,
     "metadata": {},
     "output_type": "execute_result"
    },
    {
     "data": {
      "image/png": "[encoded data removed]",
      "text/plain": [
       "<Figure size 432x288 with 1 Axes>"
      ]
     },
     "metadata": {},
     "output_type": "display_data"
    }
   ],
   "source": [
    "# predict probabilities\n",
    "probs = best_grid.predict_proba(X_train)\n",
    "# keep probabilities for the positive outcome only\n",
    "probs = probs[:, 1]\n",
    "# calculate AUC\n",
    "cart_train_auc = roc_auc_score(y_train, probs)\n",
    "print('AUC: %.2f' % cart_train_auc)\n",
    "# calculate roc curve\n",
    "cart_train_fpr, cart_train_tpr, thresholds = roc_curve(y_train, probs)\n",
    "plt.plot([0, 1], [0, 1], linestyle='--')\n",
    "plt.xlabel('False Positive Rate')\n",
    "plt.ylabel('True Positive Rate')\n",
    "plt.title('ROC')\n",
    "# plot the roc curve for the model\n",
    "plt.plot(cart_train_fpr, cart_train_tpr)"
   ]
  },
  {
   "cell_type": "markdown",
   "id": "98f3ff93",
   "metadata": {},
   "source": [
    "AUC and ROC for Testing data"
   ]
  },
  {
   "cell_type": "code",
   "execution_count": 512,
   "id": "205b83f8",
   "metadata": {},
   "outputs": [
    {
     "name": "stdout",
     "output_type": "stream",
     "text": [
      "AUC: 0.78\n"
     ]
    },
    {
     "data": {
      "text/plain": [
       "[<matplotlib.lines.Line2D at 0x19f9f1f5ca0>]"
      ]
     },
     "execution_count": 512,
     "metadata": {},
     "output_type": "execute_result"
    },
    {
     "data": {
      "image/png": "[encoded data removed]",
      "text/plain": [
       "<Figure size 432x288 with 1 Axes>"
      ]
     },
     "metadata": {},
     "output_type": "display_data"
    }
   ],
   "source": [
    "# predict probabilities\n",
    "probs = best_grid.predict_proba(X_test)\n",
    "# keep probabilities for the positive outcome only\n",
    "probs = probs[:, 1]\n",
    "# calculate AUC\n",
    "cart_test_auc = roc_auc_score(y_test, probs)\n",
    "print('AUC: %.2f' % cart_test_auc)\n",
    "# calculate roc curve\n",
    "cart_test_fpr, cart_test_tpr, thresholds = roc_curve(y_test, probs)\n",
    "plt.plot([0, 1], [0, 1], linestyle='--')\n",
    "plt.xlabel('False Positive Rate')\n",
    "plt.ylabel('True Positive Rate')\n",
    "plt.title('ROC')\n",
    "# plot the roc curve for the model\n",
    "plt.plot(cart_test_fpr, cart_test_tpr)"
   ]
  },
  {
   "cell_type": "markdown",
   "id": "e07925a0",
   "metadata": {},
   "source": [
    "Confusion Matrix and Classification Report for Training Data - CART"
   ]
  },
  {
   "cell_type": "code",
   "execution_count": 513,
   "id": "cff40a44",
   "metadata": {},
   "outputs": [
    {
     "name": "stdout",
     "output_type": "stream",
     "text": [
      "[[1186  192]\n",
      " [ 244  380]]\n"
     ]
    }
   ],
   "source": [
    "print(confusion_matrix(y_train, ytrain_predict))"
   ]
  },
  {
   "cell_type": "code",
   "execution_count": 514,
   "id": "f702908b",
   "metadata": {},
   "outputs": [
    {
     "data": {
      "image/png": "[encoded data removed]",
      "text/plain": [
       "<Figure size 432x288 with 1 Axes>"
      ]
     },
     "metadata": {},
     "output_type": "display_data"
    }
   ],
   "source": [
    "confusion_matrix(y_train, ytrain_predict)\n",
    "sns.heatmap(confusion_matrix(y_train, ytrain_predict),annot=True, fmt='d',cbar=False, cmap='plasma')\n",
    "plt.xlabel('Predicted Label')\n",
    "plt.ylabel('Actual Label')\n",
    "plt.title('Confusion Matrix')\n",
    "plt.show()"
   ]
  },
  {
   "cell_type": "code",
   "execution_count": 515,
   "id": "2b77e564",
   "metadata": {},
   "outputs": [
    {
     "data": {
      "text/plain": [
       "0.7822177822177823"
      ]
     },
     "execution_count": 515,
     "metadata": {},
     "output_type": "execute_result"
    }
   ],
   "source": [
    "cart_train_accuracy = best_grid.score(X_train,y_train) \n",
    "cart_train_accuracy"
   ]
  },
  {
   "cell_type": "code",
   "execution_count": 516,
   "id": "ca693f4f",
   "metadata": {},
   "outputs": [
    {
     "name": "stdout",
     "output_type": "stream",
     "text": [
      "              precision    recall  f1-score   support\n",
      "\n",
      "           0       0.83      0.86      0.84      1378\n",
      "           1       0.66      0.61      0.64       624\n",
      "\n",
      "    accuracy                           0.78      2002\n",
      "   macro avg       0.75      0.73      0.74      2002\n",
      "weighted avg       0.78      0.78      0.78      2002\n",
      "\n"
     ]
    }
   ],
   "source": [
    "print(classification_report(y_train, ytrain_predict))"
   ]
  },
  {
   "cell_type": "markdown",
   "id": "c97b08bb",
   "metadata": {},
   "source": [
    "Confusion Matrix and Classification Report for Testing data"
   ]
  },
  {
   "cell_type": "code",
   "execution_count": 517,
   "id": "ce3f753a",
   "metadata": {},
   "outputs": [
    {
     "name": "stdout",
     "output_type": "stream",
     "text": [
      "[[476  93]\n",
      " [126 164]]\n"
     ]
    }
   ],
   "source": [
    "print(confusion_matrix(y_test, ytest_predict))"
   ]
  },
  {
   "cell_type": "code",
   "execution_count": 518,
   "id": "19039b90",
   "metadata": {},
   "outputs": [
    {
     "data": {
      "image/png": "[encoded data removed]",
      "text/plain": [
       "<Figure size 432x288 with 1 Axes>"
      ]
     },
     "metadata": {},
     "output_type": "display_data"
    }
   ],
   "source": [
    "confusion_matrix(y_test, ytest_predict)\n",
    "sns.heatmap(confusion_matrix(y_test, ytest_predict),annot=True, fmt='d',cbar=False, cmap='inferno')\n",
    "plt.xlabel('Predicted Label')\n",
    "plt.ylabel('Actual Label')\n",
    "plt.title('Confusion Matrix')\n",
    "plt.show()"
   ]
  },
  {
   "cell_type": "code",
   "execution_count": 519,
   "id": "f54fa6ff",
   "metadata": {},
   "outputs": [
    {
     "data": {
      "text/plain": [
       "0.7450523864959255"
      ]
     },
     "execution_count": 519,
     "metadata": {},
     "output_type": "execute_result"
    }
   ],
   "source": [
    "cart_test_accuracy = best_grid.score(X_test, y_test) \n",
    "cart_test_accuracy"
   ]
  },
  {
   "cell_type": "code",
   "execution_count": 521,
   "id": "2d8a0450",
   "metadata": {},
   "outputs": [
    {
     "name": "stdout",
     "output_type": "stream",
     "text": [
      "              precision    recall  f1-score   support\n",
      "\n",
      "           0       0.79      0.84      0.81       569\n",
      "           1       0.64      0.57      0.60       290\n",
      "\n",
      "    accuracy                           0.75       859\n",
      "   macro avg       0.71      0.70      0.71       859\n",
      "weighted avg       0.74      0.75      0.74       859\n",
      "\n"
     ]
    }
   ],
   "source": [
    "print(classification_report(y_test, ytest_predict))"
   ]
  },
  {
   "cell_type": "code",
   "execution_count": 523,
   "id": "f5237eac",
   "metadata": {},
   "outputs": [
    {
     "name": "stdout",
     "output_type": "stream",
     "text": [
      "cart_train_precision  0.66\n",
      "cart_train_recall  0.61\n",
      "cart_train_f1  0.64\n"
     ]
    }
   ],
   "source": [
    "cart_metrics = classification_report(y_train, ytrain_predict,output_dict=True)\n",
    "dfcart = pd.DataFrame(cart_metrics).transpose()\n",
    "cart_train_f1 = round(dfcart.loc[\"1\"][2],2)\n",
    "cart_train_recall = round(dfcart.loc[\"1\"][1],2)\n",
    "cart_train_precision = round(dfcart.loc[\"1\"][0],2)\n",
    "print ('cart_train_precision ',cart_train_precision)\n",
    "print ('cart_train_recall ',cart_train_recall)\n",
    "print ('cart_train_f1 ',cart_train_f1)"
   ]
  },
  {
   "cell_type": "code",
   "execution_count": 524,
   "id": "835fc66b",
   "metadata": {},
   "outputs": [
    {
     "name": "stdout",
     "output_type": "stream",
     "text": [
      "cart_test_precision  0.64\n",
      "cart_test_recall  0.57\n",
      "cart_test_f1  0.6\n"
     ]
    }
   ],
   "source": [
    "cart_metrics = classification_report(y_test, ytest_predict, output_dict=True)\n",
    "dfcart = pd.DataFrame(cart_metrics).transpose()\n",
    "cart_test_precision = round(dfcart.loc[\"1\"][0],2)\n",
    "cart_test_recall = round(dfcart.loc[\"1\"][1],2)\n",
    "cart_test_f1 = round(dfcart.loc[\"1\"][2],2)\n",
    "print ('cart_test_precision ',cart_test_precision)\n",
    "print ('cart_test_recall ',cart_test_recall)\n",
    "print ('cart_test_f1 ',cart_test_f1)"
   ]
  },
  {
   "cell_type": "markdown",
   "id": "f96ebf7f",
   "metadata": {},
   "source": [
    "Conclusion for CART Model\n",
    "\n",
    "Train Data:\n",
    "\n",
    "AUC: 83%\n",
    "\n",
    "Accuracy: 78%\n",
    "\n",
    "Precision: 66%\n",
    "\n",
    "f1-Score: 64%\n",
    "\n",
    "Test Data:\n",
    "\n",
    "AUC: 78%\n",
    "\n",
    "Accuracy: 75%\n",
    "\n",
    "Precision: 64%\n",
    "\n",
    "f1-Score: 60%\n",
    "\n",
    "Training and Test set results are almost similar, and with the overall measures high, the model is a good model.\n",
    "\n",
    "Agency_Code is the most important variable for predicting claim status. Decision Tree root node split has been done based on Agency_Code.\n",
    "\n"
   ]
  },
  {
   "cell_type": "markdown",
   "id": "ccee5adb",
   "metadata": {},
   "source": [
    "\n",
    "# Building Random Forest Model"
   ]
  },
  {
   "cell_type": "code",
   "execution_count": 525,
   "id": "7308f6f2",
   "metadata": {},
   "outputs": [],
   "source": [
    "from sklearn.ensemble import RandomForestClassifier"
   ]
  },
  {
   "cell_type": "code",
   "execution_count": 526,
   "id": "fc4a874c",
   "metadata": {},
   "outputs": [],
   "source": [
    "param_grid_rfcl = {\n",
    "    'max_depth': [10],## 20,30,40\n",
    "    'max_features': [5],## 7,8,9\n",
    "    'min_samples_leaf': [10],## 50,100\n",
    "    'min_samples_split': [100], ## 60,70\n",
    "    'n_estimators': [201] ## 100,200\n",
    "}\n",
    "\n",
    "rfcl = RandomForestClassifier(random_state=1)\n",
    "\n",
    "grid_search = GridSearchCV(estimator = rfcl, param_grid = param_grid_rfcl, cv = 3, scoring='recall')\n"
   ]
  },
  {
   "cell_type": "code",
   "execution_count": 527,
   "id": "f8276557",
   "metadata": {},
   "outputs": [
    {
     "data": {
      "text/plain": [
       "GridSearchCV(cv=3, estimator=RandomForestClassifier(random_state=1),\n",
       "             param_grid={'max_depth': [10], 'max_features': [5],\n",
       "                         'min_samples_leaf': [10], 'min_samples_split': [100],\n",
       "                         'n_estimators': [201]},\n",
       "             scoring='recall')"
      ]
     },
     "execution_count": 527,
     "metadata": {},
     "output_type": "execute_result"
    }
   ],
   "source": [
    "grid_search.fit(X_train, y_train)"
   ]
  },
  {
   "cell_type": "code",
   "execution_count": 528,
   "id": "e6a93310",
   "metadata": {},
   "outputs": [
    {
     "data": {
      "text/plain": [
       "{'max_depth': 10,\n",
       " 'max_features': 5,\n",
       " 'min_samples_leaf': 10,\n",
       " 'min_samples_split': 100,\n",
       " 'n_estimators': 201}"
      ]
     },
     "execution_count": 528,
     "metadata": {},
     "output_type": "execute_result"
    }
   ],
   "source": [
    "grid_search.best_params_"
   ]
  },
  {
   "cell_type": "code",
   "execution_count": 529,
   "id": "569291da",
   "metadata": {},
   "outputs": [],
   "source": [
    "best_grid = grid_search.best_estimator_"
   ]
  },
  {
   "cell_type": "code",
   "execution_count": 530,
   "id": "dce9a8c2",
   "metadata": {},
   "outputs": [
    {
     "data": {
      "text/plain": [
       "RandomForestClassifier(max_depth=10, max_features=5, min_samples_leaf=10,\n",
       "                       min_samples_split=100, n_estimators=201, random_state=1)"
      ]
     },
     "execution_count": 530,
     "metadata": {},
     "output_type": "execute_result"
    }
   ],
   "source": [
    "best_grid"
   ]
  },
  {
   "cell_type": "code",
   "execution_count": 531,
   "id": "cb81bc6d",
   "metadata": {},
   "outputs": [],
   "source": [
    "ytrain_predict = best_grid.predict(X_train)\n",
    "ytest_predict = best_grid.predict(X_test)"
   ]
  },
  {
   "cell_type": "code",
   "execution_count": 532,
   "id": "9b4a23d8",
   "metadata": {},
   "outputs": [
    {
     "name": "stdout",
     "output_type": "stream",
     "text": [
      "              Importance\n",
      "Agency_Code     0.369611\n",
      "Product Name    0.201126\n",
      "Sales           0.182622\n",
      "Commision       0.090019\n",
      "Duration        0.069473\n",
      "Type            0.042939\n",
      "Age             0.033528\n",
      "Destination     0.007500\n",
      "Channel         0.003182\n"
     ]
    }
   ],
   "source": [
    "print (pd.DataFrame(best_grid.feature_importances_, \n",
    "                    columns = [\"Importance\"], index = X_train.columns).sort_values('Importance',ascending=False))"
   ]
  },
  {
   "cell_type": "markdown",
   "id": "190e6656",
   "metadata": {},
   "source": [
    "Model Evaluation - Random Forest\n",
    "\n",
    "AUC and ROC for Training data - Random Forest\n"
   ]
  },
  {
   "cell_type": "code",
   "execution_count": 533,
   "id": "1a64fca7",
   "metadata": {},
   "outputs": [
    {
     "name": "stdout",
     "output_type": "stream",
     "text": [
      "AUC: 0.85\n"
     ]
    },
    {
     "data": {
      "text/plain": [
       "[<matplotlib.lines.Line2D at 0x19fa0b4bc70>]"
      ]
     },
     "execution_count": 533,
     "metadata": {},
     "output_type": "execute_result"
    },
    {
     "data": {
      "image/png": "[encoded data removed]",
      "text/plain": [
       "<Figure size 432x288 with 1 Axes>"
      ]
     },
     "metadata": {},
     "output_type": "display_data"
    }
   ],
   "source": [
    "# predict probabilities\n",
    "probs = best_grid.predict_proba(X_train)\n",
    "# keep probabilities for the positive outcome only\n",
    "probs = probs[:, 1]\n",
    "# calculate AUC\n",
    "rf_train_auc = roc_auc_score(y_train, probs)\n",
    "print('AUC: %.2f' % rf_train_auc)\n",
    "# calculate roc curve\n",
    "rf_train_fpr, rf_train_tpr, thresholds = roc_curve(y_train, probs)\n",
    "plt.plot([0, 1], [0, 1], linestyle='--')\n",
    "plt.xlabel('False Positive Rate')\n",
    "plt.ylabel('True Positive Rate')\n",
    "plt.title('ROC')\n",
    "# plot the roc curve for the model\n",
    "plt.plot(rf_train_fpr, rf_train_tpr)"
   ]
  },
  {
   "cell_type": "code",
   "execution_count": 534,
   "id": "3350edf1",
   "metadata": {},
   "outputs": [
    {
     "name": "stdout",
     "output_type": "stream",
     "text": [
      "AUC: 0.80\n"
     ]
    },
    {
     "data": {
      "text/plain": [
       "[<matplotlib.lines.Line2D at 0x19fa0e2fc40>]"
      ]
     },
     "execution_count": 534,
     "metadata": {},
     "output_type": "execute_result"
    },
    {
     "data": {
      "image/png": "[encoded data removed]",
      "text/plain": [
       "<Figure size 432x288 with 1 Axes>"
      ]
     },
     "metadata": {},
     "output_type": "display_data"
    }
   ],
   "source": [
    "# predict probabilities\n",
    "probs = best_grid.predict_proba(X_test)\n",
    "# keep probabilities for the positive outcome only\n",
    "probs = probs[:, 1]\n",
    "# calculate AUC\n",
    "rf_test_auc = roc_auc_score(y_test, probs)\n",
    "print('AUC: %.2f' % rf_test_auc)\n",
    "# calculate roc curve\n",
    "rf_test_fpr, rf_test_tpr, thresholds = roc_curve(y_test, probs)\n",
    "plt.plot([0, 1], [0, 1], linestyle='--')\n",
    "plt.xlabel('False Positive Rate')\n",
    "plt.ylabel('True Positive Rate')\n",
    "plt.title('ROC')\n",
    "# plot the roc curve for the model\n",
    "plt.plot(rf_test_fpr, rf_test_tpr)"
   ]
  },
  {
   "cell_type": "markdown",
   "id": "1817fcd1",
   "metadata": {},
   "source": [
    "Confusion Matrix and Classification Report for Training Data - Random Forest"
   ]
  },
  {
   "cell_type": "code",
   "execution_count": 535,
   "id": "83ad3101",
   "metadata": {},
   "outputs": [
    {
     "name": "stdout",
     "output_type": "stream",
     "text": [
      "[[1226  152]\n",
      " [ 247  377]]\n"
     ]
    }
   ],
   "source": [
    "print(confusion_matrix(y_train, ytrain_predict))"
   ]
  },
  {
   "cell_type": "code",
   "execution_count": 536,
   "id": "73406981",
   "metadata": {},
   "outputs": [
    {
     "data": {
      "image/png": "[encoded data removed]",
      "text/plain": [
       "<Figure size 432x288 with 1 Axes>"
      ]
     },
     "metadata": {},
     "output_type": "display_data"
    }
   ],
   "source": [
    "confusion_matrix(y_train, ytrain_predict)\n",
    "sns.heatmap(confusion_matrix(y_train, ytrain_predict),annot=True, fmt='d',cbar=False, cmap='viridis')\n",
    "plt.xlabel('Predicted Label')\n",
    "plt.ylabel('Actual Label')\n",
    "plt.title('Confusion Matrix')\n",
    "plt.show()"
   ]
  },
  {
   "cell_type": "code",
   "execution_count": 537,
   "id": "7d8c7de5",
   "metadata": {},
   "outputs": [
    {
     "data": {
      "text/plain": [
       "0.8006993006993007"
      ]
     },
     "execution_count": 537,
     "metadata": {},
     "output_type": "execute_result"
    }
   ],
   "source": [
    "rf_train_accuracy = best_grid.score(X_train,y_train) \n",
    "rf_train_accuracy"
   ]
  },
  {
   "cell_type": "code",
   "execution_count": 538,
   "id": "91d8d473",
   "metadata": {},
   "outputs": [
    {
     "name": "stdout",
     "output_type": "stream",
     "text": [
      "              precision    recall  f1-score   support\n",
      "\n",
      "           0       0.83      0.89      0.86      1378\n",
      "           1       0.71      0.60      0.65       624\n",
      "\n",
      "    accuracy                           0.80      2002\n",
      "   macro avg       0.77      0.75      0.76      2002\n",
      "weighted avg       0.80      0.80      0.80      2002\n",
      "\n"
     ]
    }
   ],
   "source": [
    "print(classification_report(y_train, ytrain_predict))"
   ]
  },
  {
   "cell_type": "markdown",
   "id": "324f1188",
   "metadata": {},
   "source": [
    "Confusion Matrix and Classification Report for Testing data - Random Forest\n"
   ]
  },
  {
   "cell_type": "code",
   "execution_count": 539,
   "id": "4f85813f",
   "metadata": {},
   "outputs": [
    {
     "name": "stdout",
     "output_type": "stream",
     "text": [
      "[[488  81]\n",
      " [126 164]]\n"
     ]
    }
   ],
   "source": [
    "print(confusion_matrix(y_test, ytest_predict))"
   ]
  },
  {
   "cell_type": "code",
   "execution_count": 540,
   "id": "4741ff3b",
   "metadata": {},
   "outputs": [
    {
     "data": {
      "image/png": "[encoded data removed]",
      "text/plain": [
       "<Figure size 432x288 with 1 Axes>"
      ]
     },
     "metadata": {},
     "output_type": "display_data"
    }
   ],
   "source": [
    "# Get the confusion matrix on the test data\n",
    "confusion_matrix(y_test, ytest_predict)\n",
    "sns.heatmap(confusion_matrix(y_test, ytest_predict),annot=True, fmt='d',cbar=False, cmap='viridis')\n",
    "plt.xlabel('Predicted Label')\n",
    "plt.ylabel('Actual Label')\n",
    "plt.title('Confusion Matrix')\n",
    "plt.show()"
   ]
  },
  {
   "cell_type": "code",
   "execution_count": 541,
   "id": "e84bbd77",
   "metadata": {},
   "outputs": [
    {
     "data": {
      "text/plain": [
       "0.7590221187427241"
      ]
     },
     "execution_count": 541,
     "metadata": {},
     "output_type": "execute_result"
    }
   ],
   "source": [
    "# Test Data Accuracy\n",
    "rf_test_accuracy = best_grid.score(X_test, y_test) \n",
    "rf_test_accuracy"
   ]
  },
  {
   "cell_type": "code",
   "execution_count": 543,
   "id": "009876e7",
   "metadata": {},
   "outputs": [
    {
     "name": "stdout",
     "output_type": "stream",
     "text": [
      "              precision    recall  f1-score   support\n",
      "\n",
      "           0       0.79      0.86      0.83       569\n",
      "           1       0.67      0.57      0.61       290\n",
      "\n",
      "    accuracy                           0.76       859\n",
      "   macro avg       0.73      0.71      0.72       859\n",
      "weighted avg       0.75      0.76      0.75       859\n",
      "\n"
     ]
    }
   ],
   "source": [
    "print(classification_report(y_test, ytest_predict))"
   ]
  },
  {
   "cell_type": "code",
   "execution_count": 545,
   "id": "e95ea2fb",
   "metadata": {},
   "outputs": [
    {
     "name": "stdout",
     "output_type": "stream",
     "text": [
      "rf_train_precision  0.71\n",
      "rf_train_recall  0.6\n",
      "rf_train_f1  0.65\n"
     ]
    }
   ],
   "source": [
    "rf_metrics = classification_report(y_train, ytrain_predict,output_dict=True)\n",
    "dfrf = pd.DataFrame(rf_metrics).transpose()\n",
    "rf_train_precision = round(dfrf.loc[\"1\"][0],2)\n",
    "rf_train_recall = round(dfrf.loc[\"1\"][1],2)\n",
    "rf_train_f1 = round(dfrf.loc[\"1\"][2],2)\n",
    "print ('rf_train_precision ',rf_train_precision)\n",
    "print ('rf_train_recall ',rf_train_recall)\n",
    "print ('rf_train_f1 ',rf_train_f1)"
   ]
  },
  {
   "cell_type": "code",
   "execution_count": 546,
   "id": "62ae2216",
   "metadata": {},
   "outputs": [
    {
     "name": "stdout",
     "output_type": "stream",
     "text": [
      "rf_test_precision  0.67\n",
      "rf_test_recall  0.57\n",
      "rf_test_f1  0.61\n"
     ]
    }
   ],
   "source": [
    "rf_metrics = classification_report(y_test, ytest_predict,output_dict=True)\n",
    "dfrf = pd.DataFrame(rf_metrics).transpose()\n",
    "rf_test_precision = round(dfrf.loc[\"1\"][0],2)\n",
    "rf_test_recall = round(dfrf.loc[\"1\"][1],2)\n",
    "rf_test_f1 = round(dfrf.loc[\"1\"][2],2)\n",
    "print ('rf_test_precision ',rf_test_precision)\n",
    "print ('rf_test_recall ',rf_test_recall)\n",
    "print ('rf_test_f1 ',rf_test_f1)"
   ]
  },
  {
   "cell_type": "markdown",
   "id": "5ef0bb27",
   "metadata": {},
   "source": [
    "Conclusion for Random Forest Model\n",
    "\n",
    "Train Data:\n",
    "\n",
    "AUC: 85%\n",
    "\n",
    "Accuracy: 80%\n",
    "\n",
    "Precision: 71%\n",
    "\n",
    "f1-Score: 65%\n",
    "\n",
    "Test Data:\n",
    "\n",
    "AUC: 80%\n",
    "\n",
    "Accuracy: 80%\n",
    "\n",
    "Precision: 67%\n",
    "\n",
    "f1-Score: 61%\n",
    "\n",
    "Training and Test set results are almost similar, and with the overall measures high, the model is a good model.\n",
    "\n",
    "Agency_Code is the most important variable for predicting claim status.\n"
   ]
  },
  {
   "cell_type": "markdown",
   "id": "ed9f4708",
   "metadata": {},
   "source": [
    "# Building Neural Network Model\n"
   ]
  },
  {
   "cell_type": "code",
   "execution_count": 547,
   "id": "4f15f13f",
   "metadata": {},
   "outputs": [],
   "source": [
    "from sklearn.neural_network import MLPClassifier"
   ]
  },
  {
   "cell_type": "code",
   "execution_count": 548,
   "id": "97b78f2e",
   "metadata": {},
   "outputs": [],
   "source": [
    "from sklearn.preprocessing import StandardScaler \n",
    "sc = StandardScaler() \n",
    "X_train = sc.fit_transform(X_train) \n",
    "X_test = sc.transform(X_test)"
   ]
  },
  {
   "cell_type": "code",
   "execution_count": 549,
   "id": "e0a3627e",
   "metadata": {},
   "outputs": [],
   "source": [
    "from sklearn.model_selection import GridSearchCV\n",
    "\n",
    "param_grid = {\n",
    "    'hidden_layer_sizes': [1000],\n",
    "    'max_iter': [5000],\n",
    "    'solver': ['sgd','adam'],\n",
    "    'tol': [0.001],\n",
    "}\n",
    "\n",
    "nncl = MLPClassifier(random_state=1)\n",
    "\n",
    "grid_search = GridSearchCV(estimator = nncl, \n",
    "                           param_grid = param_grid, cv = 10)\n"
   ]
  },
  {
   "cell_type": "code",
   "execution_count": 550,
   "id": "c49586b2",
   "metadata": {},
   "outputs": [
    {
     "data": {
      "text/plain": [
       "GridSearchCV(cv=10, estimator=MLPClassifier(random_state=1),\n",
       "             param_grid={'hidden_layer_sizes': [1000], 'max_iter': [5000],\n",
       "                         'solver': ['sgd', 'adam'], 'tol': [0.001]})"
      ]
     },
     "execution_count": 550,
     "metadata": {},
     "output_type": "execute_result"
    }
   ],
   "source": [
    "grid_search.fit(X_train, y_train)"
   ]
  },
  {
   "cell_type": "code",
   "execution_count": 551,
   "id": "6005aade",
   "metadata": {},
   "outputs": [
    {
     "data": {
      "text/plain": [
       "{'hidden_layer_sizes': 1000, 'max_iter': 5000, 'solver': 'sgd', 'tol': 0.001}"
      ]
     },
     "execution_count": 551,
     "metadata": {},
     "output_type": "execute_result"
    }
   ],
   "source": [
    "grid_search.best_params_"
   ]
  },
  {
   "cell_type": "code",
   "execution_count": 552,
   "id": "fd41b7ad",
   "metadata": {},
   "outputs": [
    {
     "data": {
      "text/plain": [
       "MLPClassifier(hidden_layer_sizes=1000, max_iter=5000, random_state=1,\n",
       "              solver='sgd', tol=0.001)"
      ]
     },
     "execution_count": 552,
     "metadata": {},
     "output_type": "execute_result"
    }
   ],
   "source": [
    "grid_search.best_estimator_"
   ]
  },
  {
   "cell_type": "code",
   "execution_count": 553,
   "id": "9e13e05c",
   "metadata": {},
   "outputs": [],
   "source": [
    "best_grid = grid_search.best_estimator_"
   ]
  },
  {
   "cell_type": "code",
   "execution_count": 554,
   "id": "892d2e4f",
   "metadata": {},
   "outputs": [],
   "source": [
    "ytrain_predict = best_grid.predict(X_train)\n",
    "ytest_predict = best_grid.predict(X_test)"
   ]
  },
  {
   "cell_type": "code",
   "execution_count": 555,
   "id": "7e43cad9",
   "metadata": {},
   "outputs": [
    {
     "name": "stdout",
     "output_type": "stream",
     "text": [
      "[[1269  109]\n",
      " [ 364  260]]\n"
     ]
    }
   ],
   "source": [
    "print(confusion_matrix(y_train,ytrain_predict))"
   ]
  },
  {
   "cell_type": "code",
   "execution_count": 556,
   "id": "df61837c",
   "metadata": {},
   "outputs": [
    {
     "data": {
      "image/png": "[encoded data removed]",
      "text/plain": [
       "<Figure size 432x288 with 1 Axes>"
      ]
     },
     "metadata": {},
     "output_type": "display_data"
    }
   ],
   "source": [
    "confusion_matrix(y_train, ytrain_predict)\n",
    "sns.heatmap(confusion_matrix(y_train, ytrain_predict),annot=True, fmt='d',cbar=False, cmap='viridis')\n",
    "plt.xlabel('Predicted Label')\n",
    "plt.ylabel('Actual Label')\n",
    "plt.title('Confusion Matrix')\n",
    "plt.show()\n"
   ]
  },
  {
   "cell_type": "code",
   "execution_count": 557,
   "id": "7b699239",
   "metadata": {},
   "outputs": [
    {
     "data": {
      "text/plain": [
       "0.7637362637362637"
      ]
     },
     "execution_count": 557,
     "metadata": {},
     "output_type": "execute_result"
    }
   ],
   "source": [
    "nn_train_accuracy = best_grid.score(X_train,y_train) \n",
    "nn_train_accuracy"
   ]
  },
  {
   "cell_type": "code",
   "execution_count": 558,
   "id": "5607896b",
   "metadata": {},
   "outputs": [
    {
     "name": "stdout",
     "output_type": "stream",
     "text": [
      "              precision    recall  f1-score   support\n",
      "\n",
      "           0       0.78      0.92      0.84      1378\n",
      "           1       0.70      0.42      0.52       624\n",
      "\n",
      "    accuracy                           0.76      2002\n",
      "   macro avg       0.74      0.67      0.68      2002\n",
      "weighted avg       0.75      0.76      0.74      2002\n",
      "\n"
     ]
    }
   ],
   "source": [
    "print(classification_report(y_train,ytrain_predict))"
   ]
  },
  {
   "cell_type": "code",
   "execution_count": 559,
   "id": "2ae929d9",
   "metadata": {},
   "outputs": [
    {
     "name": "stdout",
     "output_type": "stream",
     "text": [
      "[[516  53]\n",
      " [179 111]]\n"
     ]
    }
   ],
   "source": [
    "print(confusion_matrix(y_test, ytest_predict))"
   ]
  },
  {
   "cell_type": "code",
   "execution_count": 560,
   "id": "8dfc9e97",
   "metadata": {},
   "outputs": [
    {
     "data": {
      "image/png": "[encoded data removed]",
      "text/plain": [
       "<Figure size 432x288 with 1 Axes>"
      ]
     },
     "metadata": {},
     "output_type": "display_data"
    }
   ],
   "source": [
    "# Get the confusion matrix on the train data\n",
    "confusion_matrix(y_test, ytest_predict)\n",
    "sns.heatmap(confusion_matrix(y_test, ytest_predict),annot=True, fmt='d',cbar=False, cmap='viridis')\n",
    "plt.xlabel('Predicted Label')\n",
    "plt.ylabel('Actual Label')\n",
    "plt.title('Confusion Matrix')\n",
    "plt.show()"
   ]
  },
  {
   "cell_type": "code",
   "execution_count": 561,
   "id": "af1a8aad",
   "metadata": {},
   "outputs": [
    {
     "data": {
      "text/plain": [
       "0.729918509895227"
      ]
     },
     "execution_count": 561,
     "metadata": {},
     "output_type": "execute_result"
    }
   ],
   "source": [
    "nn_test_accuracy = best_grid.score(X_test,y_test) \n",
    "nn_test_accuracy"
   ]
  },
  {
   "cell_type": "code",
   "execution_count": 562,
   "id": "6753255a",
   "metadata": {},
   "outputs": [
    {
     "name": "stdout",
     "output_type": "stream",
     "text": [
      "              precision    recall  f1-score   support\n",
      "\n",
      "           0       0.74      0.91      0.82       569\n",
      "           1       0.68      0.38      0.49       290\n",
      "\n",
      "    accuracy                           0.73       859\n",
      "   macro avg       0.71      0.64      0.65       859\n",
      "weighted avg       0.72      0.73      0.71       859\n",
      "\n"
     ]
    }
   ],
   "source": [
    "print(classification_report(y_test, ytest_predict))"
   ]
  },
  {
   "cell_type": "code",
   "execution_count": 563,
   "id": "155926de",
   "metadata": {},
   "outputs": [
    {
     "name": "stdout",
     "output_type": "stream",
     "text": [
      "AUC: 0.80\n"
     ]
    },
    {
     "data": {
      "image/png": "[encoded data removed]",
      "text/plain": [
       "<Figure size 432x288 with 1 Axes>"
      ]
     },
     "metadata": {},
     "output_type": "display_data"
    }
   ],
   "source": [
    "# predict probabilities\n",
    "probs = best_grid.predict_proba(X_train)\n",
    "# keep probabilities for the positive outcome only\n",
    "probs = probs[:, 1]\n",
    "# calculate AUC\n",
    "nn_train_auc = roc_auc_score(y_train, probs)\n",
    "print('AUC: %.2f' % nn_train_auc)\n",
    "# calculate roc curve\n",
    "nn_train_fpr, nn_train_tpr, thresholds = roc_curve(y_train, probs)\n",
    "plt.plot([0, 1], [0, 1], linestyle='--')\n",
    "plt.xlabel('False Positive Rate')\n",
    "plt.ylabel('True Positive Rate')\n",
    "plt.title('ROC')\n",
    "# plot the roc curve for the model\n",
    "plt.plot(nn_train_fpr, nn_train_tpr);"
   ]
  },
  {
   "cell_type": "code",
   "execution_count": 565,
   "id": "46c34912",
   "metadata": {},
   "outputs": [
    {
     "name": "stdout",
     "output_type": "stream",
     "text": [
      "AUC: 0.78\n"
     ]
    },
    {
     "data": {
      "image/png": "[encoded data removed]",
      "text/plain": [
       "<Figure size 432x288 with 1 Axes>"
      ]
     },
     "metadata": {},
     "output_type": "display_data"
    }
   ],
   "source": [
    "# predict probabilities\n",
    "probs = best_grid.predict_proba(X_test)\n",
    "# keep probabilities for the positive outcome only\n",
    "probs = probs[:, 1]\n",
    "# calculate AUC\n",
    "nn_test_auc = roc_auc_score(y_test, probs)\n",
    "print('AUC: %.2f' % nn_test_auc)\n",
    "# calculate roc curve\n",
    "nn_test_fpr, nn_test_tpr, thresholds = roc_curve(y_test, probs)\n",
    "plt.plot([0, 1], [0, 1], linestyle='--')\n",
    "plt.xlabel('False Positive Rate')\n",
    "plt.ylabel('True Positive Rate')\n",
    "plt.title('ROC')\n",
    "# plot the roc curve for the model\n",
    "plt.plot(nn_test_fpr, nn_test_tpr);\n"
   ]
  },
  {
   "cell_type": "code",
   "execution_count": 566,
   "id": "034cfca6",
   "metadata": {},
   "outputs": [
    {
     "name": "stdout",
     "output_type": "stream",
     "text": [
      "nn_train_precision  0.7\n",
      "nn_train_recall  0.42\n",
      "nn_train_f1  0.52\n"
     ]
    }
   ],
   "source": [
    "nn_metrics = classification_report(y_train, ytrain_predict,output_dict=True)\n",
    "dfnn = pd.DataFrame(nn_metrics).transpose()\n",
    "nn_train_precision = round(dfnn.loc[\"1\"][0],2)\n",
    "nn_train_recall = round(dfnn.loc[\"1\"][1],2)\n",
    "nn_train_f1 = round(dfnn.loc[\"1\"][2],2)\n",
    "print ('nn_train_precision ',nn_train_precision)\n",
    "print ('nn_train_recall ',nn_train_recall)\n",
    "print ('nn_train_f1 ',nn_train_f1)\n"
   ]
  },
  {
   "cell_type": "code",
   "execution_count": 567,
   "id": "bccdbcc2",
   "metadata": {},
   "outputs": [
    {
     "name": "stdout",
     "output_type": "stream",
     "text": [
      "nn_test_precision  0.68\n",
      "nn_test_recall  0.38\n",
      "nn_test_f1  0.49\n"
     ]
    }
   ],
   "source": [
    "nn_metrics = classification_report(y_test, ytest_predict,output_dict=True)\n",
    "dfnn = pd.DataFrame(nn_metrics).transpose()\n",
    "nn_test_precision = round(dfnn.loc[\"1\"][0],2)\n",
    "nn_test_recall = round(dfnn.loc[\"1\"][1],2)\n",
    "nn_test_f1 = round(dfnn.loc[\"1\"][2],2)\n",
    "print ('nn_test_precision ',nn_test_precision)\n",
    "print ('nn_test_recall ',nn_test_recall)\n",
    "print ('nn_test_f1 ',nn_test_f1)"
   ]
  },
  {
   "cell_type": "markdown",
   "id": "585259e4",
   "metadata": {},
   "source": [
    "# Conclusion for Artificial Neural Network (ANN)\n",
    "\n",
    "## Train Data:\n",
    "\n",
    "AUC: 83%\n",
    "\n",
    "Accuracy: 78%\n",
    "\n",
    "Precision: 69%\n",
    "\n",
    "f1-Score: 61%\n",
    "\n",
    "## Test Data:\n",
    "\n",
    "AUC: 84%\n",
    "\n",
    "Accuracy: 78%\n",
    "\n",
    "Precision: 73%\n",
    "\n",
    "f1-Score: 62%\n"
   ]
  },
  {
   "cell_type": "markdown",
   "id": "0e920424",
   "metadata": {},
   "source": [
    "### 2.4 Final Model - Compare all models on the basis of the performance metrics in a structured tabular manner"
   ]
  },
  {
   "cell_type": "code",
   "execution_count": 568,
   "id": "783a7d8c",
   "metadata": {},
   "outputs": [
    {
     "data": {
      "text/html": [
       "<div>\n",
       "<style scoped>\n",
       "    .dataframe tbody tr th:only-of-type {\n",
       "        vertical-align: middle;\n",
       "    }\n",
       "\n",
       "    .dataframe tbody tr th {\n",
       "        vertical-align: top;\n",
       "    }\n",
       "\n",
       "    .dataframe thead th {\n",
       "        text-align: right;\n",
       "    }\n",
       "</style>\n",
       "<table border=\"1\" class=\"dataframe\">\n",
       "  <thead>\n",
       "    <tr style=\"text-align: right;\">\n",
       "      <th></th>\n",
       "      <th>CART Train</th>\n",
       "      <th>CART Test</th>\n",
       "      <th>Random Forest Train</th>\n",
       "      <th>Random Forest Test</th>\n",
       "      <th>Neural Network Train</th>\n",
       "      <th>Neural Network Test</th>\n",
       "    </tr>\n",
       "  </thead>\n",
       "  <tbody>\n",
       "    <tr>\n",
       "      <th>Accuracy</th>\n",
       "      <td>0.78</td>\n",
       "      <td>0.75</td>\n",
       "      <td>0.80</td>\n",
       "      <td>0.76</td>\n",
       "      <td>0.76</td>\n",
       "      <td>0.73</td>\n",
       "    </tr>\n",
       "    <tr>\n",
       "      <th>AUC</th>\n",
       "      <td>0.83</td>\n",
       "      <td>0.78</td>\n",
       "      <td>0.85</td>\n",
       "      <td>0.80</td>\n",
       "      <td>0.80</td>\n",
       "      <td>0.78</td>\n",
       "    </tr>\n",
       "    <tr>\n",
       "      <th>Recall</th>\n",
       "      <td>0.61</td>\n",
       "      <td>0.57</td>\n",
       "      <td>0.60</td>\n",
       "      <td>0.57</td>\n",
       "      <td>0.42</td>\n",
       "      <td>0.38</td>\n",
       "    </tr>\n",
       "    <tr>\n",
       "      <th>Precision</th>\n",
       "      <td>0.66</td>\n",
       "      <td>0.64</td>\n",
       "      <td>0.71</td>\n",
       "      <td>0.67</td>\n",
       "      <td>0.70</td>\n",
       "      <td>0.68</td>\n",
       "    </tr>\n",
       "    <tr>\n",
       "      <th>F1 Score</th>\n",
       "      <td>0.64</td>\n",
       "      <td>0.60</td>\n",
       "      <td>0.65</td>\n",
       "      <td>0.61</td>\n",
       "      <td>0.52</td>\n",
       "      <td>0.49</td>\n",
       "    </tr>\n",
       "  </tbody>\n",
       "</table>\n",
       "</div>"
      ],
      "text/plain": [
       "           CART Train  CART Test  Random Forest Train  Random Forest Test  \\\n",
       "Accuracy         0.78       0.75                 0.80                0.76   \n",
       "AUC              0.83       0.78                 0.85                0.80   \n",
       "Recall           0.61       0.57                 0.60                0.57   \n",
       "Precision        0.66       0.64                 0.71                0.67   \n",
       "F1 Score         0.64       0.60                 0.65                0.61   \n",
       "\n",
       "           Neural Network Train  Neural Network Test  \n",
       "Accuracy                   0.76                 0.73  \n",
       "AUC                        0.80                 0.78  \n",
       "Recall                     0.42                 0.38  \n",
       "Precision                  0.70                 0.68  \n",
       "F1 Score                   0.52                 0.49  "
      ]
     },
     "execution_count": 568,
     "metadata": {},
     "output_type": "execute_result"
    }
   ],
   "source": [
    "index=['Accuracy', 'AUC', 'Recall','Precision','F1 Score']\n",
    "data = pd.DataFrame({'CART Train':[cart_train_accuracy,cart_train_auc,cart_train_recall,cart_train_precision,cart_train_f1],\n",
    "        'CART Test':[cart_test_accuracy,cart_test_auc,cart_test_recall,cart_test_precision,cart_test_f1],\n",
    "       'Random Forest Train':[rf_train_accuracy,rf_train_auc,rf_train_recall,rf_train_precision,rf_train_f1],\n",
    "        'Random Forest Test':[rf_test_accuracy,rf_test_auc,rf_test_recall,rf_test_precision,rf_test_f1],\n",
    "       'Neural Network Train':[nn_train_accuracy,nn_train_auc,nn_train_recall,nn_train_precision,nn_train_f1],\n",
    "        'Neural Network Test':[nn_test_accuracy,nn_test_auc,nn_test_recall,nn_test_precision,nn_test_f1]},index=index)\n",
    "round(data,2)"
   ]
  },
  {
   "cell_type": "code",
   "execution_count": 569,
   "id": "a3bc5451",
   "metadata": {},
   "outputs": [
    {
     "data": {
      "image/png": "[encoded data removed]",
      "text/plain": [
       "<Figure size 432x288 with 1 Axes>"
      ]
     },
     "metadata": {},
     "output_type": "display_data"
    }
   ],
   "source": [
    "plt.plot([0, 1], [0, 1], linestyle='--')\n",
    "plt.plot(cart_train_fpr, cart_train_tpr,color='red',label=\"CART\")\n",
    "plt.plot(rf_train_fpr,rf_train_tpr,color='green',label=\"RF\")\n",
    "plt.plot(nn_train_fpr,nn_train_tpr,color='black',label=\"NN\")\n",
    "plt.xlabel('False Positive Rate')\n",
    "plt.ylabel('True Positive Rate')\n",
    "plt.title('ROC')\n",
    "plt.legend(bbox_to_anchor=(0., 1.02, 1., .102), loc='lower right');\n"
   ]
  },
  {
   "cell_type": "code",
   "execution_count": 570,
   "id": "c56eed5f",
   "metadata": {},
   "outputs": [
    {
     "data": {
      "image/png": "[encoded data removed]",
      "text/plain": [
       "<Figure size 432x288 with 1 Axes>"
      ]
     },
     "metadata": {},
     "output_type": "display_data"
    }
   ],
   "source": [
    "plt.plot([0, 1], [0, 1], linestyle='--')\n",
    "plt.plot(cart_test_fpr, cart_test_tpr,color='red',label=\"CART\")\n",
    "plt.plot(rf_test_fpr,rf_test_tpr,color='green',label=\"RF\")\n",
    "plt.plot(nn_test_fpr,nn_test_tpr,color='black',label=\"NN\")\n",
    "plt.xlabel('False Positive Rate')\n",
    "plt.ylabel('True Positive Rate')\n",
    "plt.title('ROC')\n",
    "plt.legend(bbox_to_anchor=(0., 1.02, 1., .102), loc='lower right');\n"
   ]
  },
  {
   "cell_type": "markdown",
   "id": "11b8775c",
   "metadata": {},
   "source": [
    "Out of the 3 models, Random Forest has slightly better performance than the CART and ANN model.\n",
    "\n",
    "Overall all the 3 models are reasonably stable enough to be used for making any future predictions. \n",
    "\n",
    "From CART and Random Forest Model, the variable Agency_Code is found to be the most useful feature amongst all other features for predicting if a customer has claimed the insurance or not.\n",
    "\n"
   ]
  },
  {
   "cell_type": "markdown",
   "id": "20c834dd",
   "metadata": {},
   "source": [
    "# --END--"
   ]
  }
 ],
 "metadata": {
  "kernelspec": {
   "display_name": "Python 3",
   "language": "python",
   "name": "python3"
  },
  "language_info": {
   "codemirror_mode": {
    "name": "ipython",
    "version": 3
   },
   "file_extension": ".py",
   "mimetype": "text/x-python",
   "name": "python",
   "nbconvert_exporter": "python",
   "pygments_lexer": "ipython3",
   "version": "3.8.8"
  }
 },
 "nbformat": 4,
 "nbformat_minor": 5
}
